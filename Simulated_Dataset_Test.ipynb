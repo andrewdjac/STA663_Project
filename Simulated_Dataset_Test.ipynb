{
 "cells": [
  {
   "cell_type": "code",
   "execution_count": 1,
   "metadata": {},
   "outputs": [],
   "source": [
    "# Load libraries\n",
    "import numpy as np\n",
    "from LDA_AandB.test_data_generator import simulate_corpus\n",
    "from LDA_AandB.lda_code import lda, group_docs\n",
    "from LDA_AandB.lda_code_opt import lda_optimized"
   ]
  },
  {
   "cell_type": "markdown",
   "metadata": {},
   "source": [
    "In the LDA framework, documents are assumed to be generated under the following stochastic process:\n",
    "\n",
    "For each document $m$, sample topic distribution $ \\theta_m \\sim Dirichlet(\\alpha)$\n",
    "\n",
    "For each topic $k$, sample word distribution $ \\phi_k \\sim Dirichlet(\\beta)$\n",
    "\n",
    "For each word $n$ in each document,\n",
    "\n",
    "1) Sample topic $z_n \\sim Cat(\\theta_m)$\n",
    "\n",
    "2) Sample word $w_n \\sim Cat(\\phi_{z_n})$"
   ]
  },
  {
   "cell_type": "markdown",
   "metadata": {},
   "source": [
    "To assess the correctness of our LDA algorithm, we simulate data under this stochastic process. We then train this data on our algorithm and compare the parameter estimates to the true parameters.\n",
    "\n",
    "We simulate a corpus of 10 documents containing 100 unique \"words\". Documents in the corpus are composed of 2 different topics and contain between 150 and 200 words."
   ]
  },
  {
   "cell_type": "code",
   "execution_count": 2,
   "metadata": {},
   "outputs": [],
   "source": [
    "# Set seed\n",
    "np.random.seed(101)"
   ]
  },
  {
   "cell_type": "code",
   "execution_count": 3,
   "metadata": {},
   "outputs": [],
   "source": [
    "# Set corpus parameters\n",
    "V = 100\n",
    "N_min = 150\n",
    "N_max = 200\n",
    "K = 2\n",
    "M = 10"
   ]
  },
  {
   "cell_type": "code",
   "execution_count": 4,
   "metadata": {},
   "outputs": [],
   "source": [
    "# Set true parameters\n",
    "alpha_true = np.random.randint(1, 15, K)\n",
    "beta_true = np.random.randint(1, 10, V)"
   ]
  },
  {
   "cell_type": "code",
   "execution_count": 5,
   "metadata": {},
   "outputs": [
    {
     "name": "stdout",
     "output_type": "stream",
     "text": [
      "alpha: [12  2]\n",
      "beta: [7 8 9 5 9 6 1 6 9 2 4 9 4 4 3 9 4 8 1 8 9 5 4 4 8 5 9 8 7 5 3 8 8 8 1 5 2\n",
      " 9 4 2 9 5 4 3 4 4 8 5 9 7 4 8 7 6 7 3 3 2 4 4 4 5 6 6 9 4 7 9 8 6 8 6 5 5\n",
      " 8 4 3 4 3 4 6 7 7 6 6 2 8 5 8 5 6 2 7 3 7 4 9 2 8 5]\n"
     ]
    }
   ],
   "source": [
    "print(\"alpha:\", alpha_true)\n",
    "print(\"beta:\", beta_true)"
   ]
  },
  {
   "cell_type": "code",
   "execution_count": 6,
   "metadata": {},
   "outputs": [],
   "source": [
    "# Generate simulated dataset\n",
    "bow, theta_true, phi_true = simulate_corpus(alpha_true, beta_true, M, N_min, N_max)"
   ]
  },
  {
   "cell_type": "code",
   "execution_count": 9,
   "metadata": {},
   "outputs": [],
   "source": [
    "# Train data on LDA implementation\n",
    "theta, phi = lda_optimized(bow, 2)"
   ]
  },
  {
   "cell_type": "code",
   "execution_count": 10,
   "metadata": {},
   "outputs": [
    {
     "data": {
      "text/plain": [
       "array([[0.51685393, 0.48314607],\n",
       "       [0.48108108, 0.51891892],\n",
       "       [0.56060606, 0.43939394],\n",
       "       [0.09210526, 0.90789474],\n",
       "       [0.74712644, 0.25287356],\n",
       "       [0.62983425, 0.37016575],\n",
       "       [0.53005464, 0.46994536],\n",
       "       [0.47126437, 0.52873563],\n",
       "       [0.64044944, 0.35955056],\n",
       "       [0.48387097, 0.51612903]])"
      ]
     },
     "execution_count": 10,
     "metadata": {},
     "output_type": "execute_result"
    }
   ],
   "source": [
    "theta"
   ]
  },
  {
   "cell_type": "code",
   "execution_count": 11,
   "metadata": {},
   "outputs": [
    {
     "data": {
      "text/plain": [
       "array([[0.78265292, 0.21734708],\n",
       "       [0.94563303, 0.05436697],\n",
       "       [0.79502595, 0.20497405],\n",
       "       [0.95955196, 0.04044804],\n",
       "       [0.9598253 , 0.0401747 ],\n",
       "       [0.80936626, 0.19063374],\n",
       "       [0.93771192, 0.06228808],\n",
       "       [0.85612763, 0.14387237],\n",
       "       [0.89547549, 0.10452451],\n",
       "       [0.92376433, 0.07623567]])"
      ]
     },
     "execution_count": 11,
     "metadata": {},
     "output_type": "execute_result"
    }
   ],
   "source": [
    "theta_true"
   ]
  },
  {
   "cell_type": "code",
   "execution_count": null,
   "metadata": {},
   "outputs": [],
   "source": [
    "group_docs(theta, K)"
   ]
  },
  {
   "cell_type": "code",
   "execution_count": null,
   "metadata": {},
   "outputs": [],
   "source": [
    "group_docs(theta_true, K)"
   ]
  },
  {
   "cell_type": "code",
   "execution_count": null,
   "metadata": {},
   "outputs": [],
   "source": [
    "np.mean((theta - theta_true)**2)"
   ]
  },
  {
   "cell_type": "code",
   "execution_count": null,
   "metadata": {},
   "outputs": [],
   "source": [
    "np.mean(abs(theta - theta_true))"
   ]
  },
  {
   "cell_type": "code",
   "execution_count": null,
   "metadata": {},
   "outputs": [],
   "source": [
    "np.argmax(theta, axis = 1)"
   ]
  },
  {
   "cell_type": "code",
   "execution_count": null,
   "metadata": {},
   "outputs": [],
   "source": [
    "np.argmax(theta_true, axis = 1)"
   ]
  },
  {
   "cell_type": "code",
   "execution_count": null,
   "metadata": {},
   "outputs": [],
   "source": [
    "np.mean(np.argmax(theta, axis = 1) == np.argmax(theta_true, axis = 1))"
   ]
  },
  {
   "cell_type": "markdown",
   "metadata": {},
   "source": [
    "The accuracy of our LDA depends on the choice of the hyperparameters $\\alpha$ and $\\beta$. The closer these hyperparameters are to the true values of the dataset, the better the algorithm's estimates of the topic and word distributions. \n",
    "\n",
    "When the hyperparameters $\\alpha$ and $\\beta$ are chosen to be the true values, our LDA algorithm estimates the true topic and word distributions very well:"
   ]
  },
  {
   "cell_type": "code",
   "execution_count": null,
   "metadata": {},
   "outputs": [],
   "source": [
    "# Train data on LDA implementation\n",
    "theta, phi = lda(bow, K, 1, 1, 10000)"
   ]
  },
  {
   "cell_type": "code",
   "execution_count": null,
   "metadata": {},
   "outputs": [],
   "source": [
    "theta"
   ]
  },
  {
   "cell_type": "code",
   "execution_count": null,
   "metadata": {},
   "outputs": [],
   "source": [
    "theta_true"
   ]
  },
  {
   "cell_type": "code",
   "execution_count": null,
   "metadata": {},
   "outputs": [],
   "source": [
    "np.mean((theta - theta_true)**2)"
   ]
  },
  {
   "cell_type": "markdown",
   "metadata": {},
   "source": [
    "However, in real-world scenarios we don't know what the true values of $\\alpha$ and $\\beta$ are. In the case where the chosen hyperparameters are not the true values from the data, our LDA algorithm's estimates are less accurate."
   ]
  },
  {
   "cell_type": "code",
   "execution_count": null,
   "metadata": {},
   "outputs": [],
   "source": [
    "# Load libraries\n",
    "from LDA_AandB.lda_code_opt import lda_optimized"
   ]
  },
  {
   "cell_type": "code",
   "execution_count": null,
   "metadata": {},
   "outputs": [],
   "source": [
    "theta, phi = lda_optimized(bow, 2)"
   ]
  },
  {
   "cell_type": "code",
   "execution_count": null,
   "metadata": {},
   "outputs": [],
   "source": [
    "theta"
   ]
  }
 ],
 "metadata": {
  "kernelspec": {
   "display_name": "Python 3",
   "language": "python",
   "name": "python3"
  },
  "language_info": {
   "codemirror_mode": {
    "name": "ipython",
    "version": 3
   },
   "file_extension": ".py",
   "mimetype": "text/x-python",
   "name": "python",
   "nbconvert_exporter": "python",
   "pygments_lexer": "ipython3",
   "version": "3.6.5"
  }
 },
 "nbformat": 4,
 "nbformat_minor": 2
}
