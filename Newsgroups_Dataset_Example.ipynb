{
 "cells": [
  {
   "cell_type": "code",
   "execution_count": 20,
   "metadata": {},
   "outputs": [],
   "source": [
    "# Load libraries\n",
    "import numpy as np\n",
    "from LDA_AandB.lda_code import lda, group_docs, get_key_words\n",
    "from LDA_AandB.test_data_generator import get_newsgroups, newsgroups_categories"
   ]
  },
  {
   "cell_type": "code",
   "execution_count": 21,
   "metadata": {},
   "outputs": [],
   "source": [
    "# Set seed\n",
    "np.random.seed(10)"
   ]
  },
  {
   "cell_type": "code",
   "execution_count": 23,
   "metadata": {},
   "outputs": [
    {
     "data": {
      "text/plain": [
       "['comp.graphics', 'soc.religion.christian']"
      ]
     },
     "execution_count": 23,
     "metadata": {},
     "output_type": "execute_result"
    }
   ],
   "source": [
    "cats = [newsgroups_categories[i] for i in [1, 15]]\n",
    "cats"
   ]
  },
  {
   "cell_type": "code",
   "execution_count": 37,
   "metadata": {},
   "outputs": [
    {
     "data": {
      "text/plain": [
       "[0, 1, 1, 1, 0, 1, 1, 1, 1, 0]"
      ]
     },
     "execution_count": 37,
     "metadata": {},
     "output_type": "execute_result"
    }
   ],
   "source": [
    "bow, labels, words = get_newsgroups(cats, 10)\n",
    "labels"
   ]
  },
  {
   "cell_type": "code",
   "execution_count": 25,
   "metadata": {},
   "outputs": [],
   "source": [
    "theta, phi = lda(bow, 2, 1, 1, 5000)"
   ]
  },
  {
   "cell_type": "code",
   "execution_count": 26,
   "metadata": {},
   "outputs": [
    {
     "name": "stdout",
     "output_type": "stream",
     "text": [
      "Documents labeled in group 1 : [0 1 2 3]\n",
      "Documents labeled in group 2 : [4]\n"
     ]
    }
   ],
   "source": [
    "group_docs(theta, 2)"
   ]
  },
  {
   "cell_type": "code",
   "execution_count": 27,
   "metadata": {},
   "outputs": [
    {
     "name": "stdout",
     "output_type": "stream",
     "text": [
      "Key words for topic 1 :  ['about', 'agree', 'all', 'alpha', 'an', 'anybody', 'architectures', 'attempted', 'attempting', 'based', 'beginning', 'better', 'books', 'come', 'coming', 'companies', 'complained', 'complaining', 'computer', 'constantly', 'cornerstone', 'dec', 'decstation', 'does', 'doing', 'end', 'eventually', 'far', 'felt', 'from', 'ftp', 'going', 'having', 'history', 'improve', 'industry', 'interested', 'market', 'merely', 'mips', 'my', 'new', 'newer', 'older', 'original', 'particular', 'pascal', 'path', 'point', 'posting', 'product', 'provide', 'providing', 'relatively', 'replace', 'services', 'sgi', 'since', 'statement', 'superior', 'system', 'than', 'their', 'they', 'understand', 'united', 'upgrade', 'upgrades', 'video', 'voluntarily', 'what', 'with']\n",
      "Key words for topic 2 :  ['access', 'am', 'any', 'apostles', 'archive', 'as', 'bad', 'basic', 'be', 'being', 'bible', 'ceremonial', 'circumcise', 'circumcising', 'combine', 'comments', 'could', 'covering', 'declaration', 'depending', 'did', 'different', 'do', 'driver', 'dualpage', 'excellent', 'expect', 'explain', 'few', 'find', 'first', 'functions', 'geological', 'give', 'graphics', 'happy', 'hard', 'has', 'head', 'help', 'hidden', 'his', 'how', 'if', 'into', 'jews', 'law', 'laws', 'line', 'little', 'looking', 'man', 'me', 'men', 'moral', 'one', 'opposed', 'paragraph', 'pardon', 'passage', 'paul', 'praying', 'prescribe', 'pretty', 'program', 'quickdraw', 'really', 'removal', 'rules', 'same', 'second', 'set', 'should', 'states', 'teaches', 'terrain', 'thanks', 'then', 'unclear', 'use', 'vice', 'weeks', 'whether', 'which', 'while', 'who', 'window', 'witht', 'would', 'wrote', 'yet', 'your']\n"
     ]
    }
   ],
   "source": [
    "get_key_words(phi, 1, words)"
   ]
  }
 ],
 "metadata": {
  "kernelspec": {
   "display_name": "Python 3",
   "language": "python",
   "name": "python3"
  },
  "language_info": {
   "codemirror_mode": {
    "name": "ipython",
    "version": 3
   },
   "file_extension": ".py",
   "mimetype": "text/x-python",
   "name": "python",
   "nbconvert_exporter": "python",
   "pygments_lexer": "ipython3",
   "version": "3.6.5"
  }
 },
 "nbformat": 4,
 "nbformat_minor": 2
}
