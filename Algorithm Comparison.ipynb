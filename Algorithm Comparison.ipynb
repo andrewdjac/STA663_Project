{
 "cells": [
  {
   "cell_type": "code",
   "execution_count": 31,
   "metadata": {},
   "outputs": [],
   "source": [
    "# Load libraries\n",
    "import numpy as np\n",
    "from LDA_AandB.test_data_generator import simulate_corpus\n",
    "from LDA_AandB.lda_code import lda, group_docs\n",
    "np.random.seed(101)"
   ]
  },
  {
   "cell_type": "code",
   "execution_count": 32,
   "metadata": {},
   "outputs": [],
   "source": [
    "# Set corpus parameters\n",
    "V = 100\n",
    "N_min = 150\n",
    "N_max = 200\n",
    "K = 2\n",
    "M = 10\n",
    "\n",
    "# Set hyperparameters\n",
    "alpha_true = np.random.randint(1, 10, K)\n",
    "beta_true = np.random.randint(1, 10, V)\n",
    "\n",
    "# Generate simulated corpus\n",
    "bow, theta_true, phi_true = simulate_corpus(alpha_true, beta_true, M, N_min, N_max)"
   ]
  },
  {
   "cell_type": "markdown",
   "metadata": {},
   "source": [
    "# LSA"
   ]
  },
  {
   "cell_type": "code",
   "execution_count": 33,
   "metadata": {},
   "outputs": [
    {
     "data": {
      "text/plain": [
       "array([[21.76158621, 12.25379071],\n",
       "       [22.78082259, -0.51321017],\n",
       "       [17.60798686, -2.09722723],\n",
       "       [20.63135653, -0.02359774],\n",
       "       [21.75064639,  2.49741488],\n",
       "       [20.45242313, -6.32869104],\n",
       "       [19.09948169, -5.17927841],\n",
       "       [20.30089935,  2.0238676 ],\n",
       "       [16.78600481, -3.16631302],\n",
       "       [17.95393316, -1.75193616]])"
      ]
     },
     "execution_count": 33,
     "metadata": {},
     "output_type": "execute_result"
    }
   ],
   "source": [
    "from sklearn.decomposition import TruncatedSVD\n",
    "from sklearn.random_projection import sparse_random_matrix\n",
    "\n",
    "svd = TruncatedSVD(n_components = 2, n_iter = 7, random_state = 42)\n",
    "TruncatedSVD(algorithm = 'randomized', n_components = 2, n_iter = 7,\n",
    "        random_state = 42, tol = 0.0)\n",
    "svd.fit_transform(bow)"
   ]
  },
  {
   "cell_type": "markdown",
   "metadata": {},
   "source": [
    "# LDA (Variational Bayes)"
   ]
  },
  {
   "cell_type": "code",
   "execution_count": 38,
   "metadata": {},
   "outputs": [
    {
     "name": "stderr",
     "output_type": "stream",
     "text": [
      "/opt/conda/lib/python3.6/site-packages/sklearn/decomposition/online_lda.py:536: DeprecationWarning: The default value for 'learning_method' will be changed from 'online' to 'batch' in the release 0.20. This warning was introduced in 0.18.\n",
      "  DeprecationWarning)\n"
     ]
    },
    {
     "data": {
      "text/plain": [
       "array([[0.99658069, 0.00341931],\n",
       "       [0.99674963, 0.00325037],\n",
       "       [0.9958288 , 0.0041712 ],\n",
       "       [0.99631221, 0.00368779],\n",
       "       [0.99650759, 0.00349241],\n",
       "       [0.99655016, 0.00344984],\n",
       "       [0.99629708, 0.00370292],\n",
       "       [0.9964495 , 0.0035505 ],\n",
       "       [0.99588775, 0.00411225],\n",
       "       [0.9959005 , 0.0040995 ]])"
      ]
     },
     "execution_count": 38,
     "metadata": {},
     "output_type": "execute_result"
    }
   ],
   "source": [
    "from sklearn.decomposition import LatentDirichletAllocation\n",
    "from sklearn.datasets import make_multilabel_classification\n",
    "# This produces a feature matrix of token counts, similar to what\n",
    "# CountVectorizer would produce on text.\n",
    "#X, _ = make_multilabel_classification(random_state=0)\n",
    "lda = LatentDirichletAllocation(n_components = 2,\n",
    "                                random_state = 0)\n",
    "lda.fit(bow) \n",
    "LatentDirichletAllocation(...)\n",
    "# get topics for some given samples:\n",
    "lda.transform(bow)"
   ]
  }
 ],
 "metadata": {
  "kernelspec": {
   "display_name": "Python 3",
   "language": "python",
   "name": "python3"
  },
  "language_info": {
   "codemirror_mode": {
    "name": "ipython",
    "version": 3
   },
   "file_extension": ".py",
   "mimetype": "text/x-python",
   "name": "python",
   "nbconvert_exporter": "python",
   "pygments_lexer": "ipython3",
   "version": "3.6.5"
  }
 },
 "nbformat": 4,
 "nbformat_minor": 2
}
