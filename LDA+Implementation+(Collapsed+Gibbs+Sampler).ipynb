{
 "cells": [
  {
   "cell_type": "code",
   "execution_count": 1,
   "metadata": {
    "collapsed": true
   },
   "outputs": [],
   "source": [
    "# Load libraries\n",
    "import numpy as np"
   ]
  },
  {
   "cell_type": "code",
   "execution_count": 2,
   "metadata": {
    "collapsed": true
   },
   "outputs": [],
   "source": [
    "# Set seed\n",
    "np.random.seed(10)"
   ]
  },
  {
   "cell_type": "code",
   "execution_count": 3,
   "metadata": {
    "collapsed": true
   },
   "outputs": [],
   "source": [
    "# Doc params\n",
    "V = 50\n",
    "N = 300\n",
    "K = 3\n",
    "M = 2"
   ]
  },
  {
   "cell_type": "code",
   "execution_count": 4,
   "metadata": {
    "collapsed": true
   },
   "outputs": [],
   "source": [
    "# Set true params\n",
    "alpha_true = np.array([10, 1, 2])\n",
    "beta_true = np.random.randint(1, 10, V)"
   ]
  },
  {
   "cell_type": "code",
   "execution_count": 5,
   "metadata": {
    "collapsed": true
   },
   "outputs": [],
   "source": [
    "# Generate data\n",
    "phi_true = np.zeros((K, V))\n",
    "for k in range(K):\n",
    "    phi_true[k, :] = np.random.dirichlet(beta_true)"
   ]
  },
  {
   "cell_type": "code",
   "execution_count": 6,
   "metadata": {
    "collapsed": true
   },
   "outputs": [],
   "source": [
    "theta_true = np.zeros((M, K))\n",
    "for m in range(M):\n",
    "    theta_true[m,:] = np.random.dirichlet(alpha_true)"
   ]
  },
  {
   "cell_type": "code",
   "execution_count": 7,
   "metadata": {
    "collapsed": true
   },
   "outputs": [],
   "source": [
    "doc_lens = np.random.randint(100, N, M)\n",
    "z_true = {}\n",
    "w = {}\n",
    "for m in range(M):\n",
    "    z_true[m] = []\n",
    "    w[m] = []\n",
    "    for n in range(doc_lens[m]):\n",
    "        z_true[m].extend(np.nonzero(np.random.multinomial(1, theta_true[m,:]))[0])\n",
    "        w[m].extend(np.nonzero(np.random.multinomial(1, phi_true[z_true[m][n], :]))[0])"
   ]
  },
  {
   "cell_type": "code",
   "execution_count": 8,
   "metadata": {
    "collapsed": false
   },
   "outputs": [],
   "source": [
    "#z_true = np.zeros((M, N), dtype = \"int\")\n",
    "#w = np.zeros((M, N), dtype = \"int\")\n",
    "#for m in range(M):\n",
    "#    for n in range(N):\n",
    "#        z_true[m, n] = np.nonzero(np.random.multinomial(1, theta_true[m,:]))[0]\n",
    "#        w[m, n] = np.nonzero(np.random.multinomial(1, phi_true[z_true[m, n], :]))[0]\n",
    "\n",
    "# phi_true[z_true[m][n]]"
   ]
  },
  {
   "cell_type": "code",
   "execution_count": 9,
   "metadata": {
    "collapsed": true
   },
   "outputs": [],
   "source": [
    "# Set initial z randomly\n",
    "z = {}\n",
    "for m in range(M):\n",
    "    z[m] = []\n",
    "    for n in range(doc_lens[m]):\n",
    "        z[m].extend(np.nonzero(np.random.multinomial(1, np.ones(K)/K))[0])"
   ]
  },
  {
   "cell_type": "code",
   "execution_count": 10,
   "metadata": {
    "collapsed": true
   },
   "outputs": [],
   "source": [
    "# Create count matrices\n",
    "A = np.zeros((M, K))\n",
    "for m in range(M):\n",
    "    for k in range(K):\n",
    "        A[m, k] = sum(np.array(z[m]) == k)"
   ]
  },
  {
   "cell_type": "code",
   "execution_count": 11,
   "metadata": {
    "collapsed": true
   },
   "outputs": [],
   "source": [
    "B = np.zeros((K, V))\n",
    "for m in range(M):\n",
    "    for n in range(doc_lens[m]):\n",
    "        B[z[m][n], w[m][n]] += 1"
   ]
  },
  {
   "cell_type": "code",
   "execution_count": 12,
   "metadata": {
    "collapsed": true
   },
   "outputs": [],
   "source": [
    "C = np.zeros(K)\n",
    "for m in range(M):\n",
    "    for n in range(doc_lens[m]):\n",
    "        C[z[m][n]] += 1"
   ]
  },
  {
   "cell_type": "code",
   "execution_count": 13,
   "metadata": {
    "collapsed": true
   },
   "outputs": [],
   "source": [
    "# set hyperparameters alpha and beta\n",
    "alpha = np.ones(K)\n",
    "beta =np.ones(V)"
   ]
  },
  {
   "cell_type": "code",
   "execution_count": 14,
   "metadata": {
    "collapsed": false
   },
   "outputs": [],
   "source": [
    "# start gibbs sampler\n",
    "num_iter = 10000\n",
    "for i in range(num_iter):\n",
    "    for m in range(M):\n",
    "        for n in range(doc_lens[m]):\n",
    "            A[m, z[m][n]] -= 1\n",
    "            B[z[m][n], w[m][n]] -= 1\n",
    "            C[z[m][n]] -= 1\n",
    "            p = np.zeros(K)\n",
    "            for k in range(K):\n",
    "                p[k] = (A[m, k] + alpha[k])*((B[k, w[m][n]] + beta[w[m][n]])/(C[k] + sum(beta)))\n",
    "            p /= sum(p)\n",
    "            z[m][n] = np.nonzero(np.random.multinomial(1, p))[0][0]\n",
    "            A[m, z[m][n]] += 1\n",
    "            B[z[m][n], w[m][n]] += 1\n",
    "            C[z[m][n]] += 1"
   ]
  },
  {
   "cell_type": "code",
   "execution_count": 15,
   "metadata": {
    "collapsed": false
   },
   "outputs": [
    {
     "data": {
      "text/plain": [
       "array([[ 0.46,  0.28,  0.26],\n",
       "       [ 0.64,  0.17,  0.2 ]])"
      ]
     },
     "execution_count": 15,
     "metadata": {},
     "output_type": "execute_result"
    }
   ],
   "source": [
    "theta = np.zeros((M, K))\n",
    "for m in range(M):\n",
    "    for k in range(K):\n",
    "        theta[m , k] = (A[m, k] + alpha[k])/((sum(A[m,:])) + sum(alpha))\n",
    "np.round(theta, 2)"
   ]
  },
  {
   "cell_type": "code",
   "execution_count": 16,
   "metadata": {
    "collapsed": false
   },
   "outputs": [
    {
     "data": {
      "text/plain": [
       "array([[ 0.83,  0.04,  0.13],\n",
       "       [ 0.71,  0.11,  0.19]])"
      ]
     },
     "execution_count": 16,
     "metadata": {},
     "output_type": "execute_result"
    }
   ],
   "source": [
    "np.round(theta_true, 2)"
   ]
  },
  {
   "cell_type": "code",
   "execution_count": 17,
   "metadata": {
    "collapsed": false
   },
   "outputs": [],
   "source": [
    "# start gibbs sampler\n",
    "# num_iter = 1000\n",
    "# for i in range(num_iter):\n",
    "#     for m in range(M):\n",
    "#         for n in range(doc_lens[m]):\n",
    "#             A[m, z[m][n]] -= 1  # Decrement N1\n",
    "#             B[z[m][n], w[m][n]] -= 1 # Decrement N2\n",
    "#             C[z[m][n]] -= 1 # Decrement N3\n",
    "#             p = np.zeros(K)\n",
    "#             for k in range(K):\n",
    "#                 p[k] = (A[m, k] + alpha[k])*((B[k, w[m][n]] + beta[w[m][n]])/(C[k] + sum(beta)))\n",
    "#             p /= sum(p) # This is actually doing k divisions... might be a modest speed up but we can parallelize easily with numba\n",
    "#             z[m][n] = np.nonzero(np.random.multinomial(1, p))[0][0]\n",
    "#             A[m, z[m][n]] += 1 # Increment N1\n",
    "#             B[z[m][n], w[m][n]] += 1 # Increment N2\n",
    "#             C[z[m][n]] += 1 # Increment N3"
   ]
  },
  {
   "cell_type": "code",
   "execution_count": 18,
   "metadata": {
    "collapsed": false
   },
   "outputs": [],
   "source": [
    "\n",
    "#     initialize();\n",
    "#     std::vector<double> dis((size_t)num_topics, 0);\n",
    "\n",
    "#     CycleTimer timer;\n",
    "#     for(int iter = 0; iter < num_iterations; iter++){\n",
    "#         for(int d = 0; d < (int) W.size(); d++){\n",
    "#             for(int j = 0; j < (int) W[d].size(); j++){\n",
    "#                 int word = W[d][j];\n",
    "#                 int topic = T[d][j];\n",
    "#                 // ignore current position\n",
    "#                 doc_topic_table[d][topic] --;\n",
    "#                 topic_word_table[topic][word] --;\n",
    "#                 topic_table[topic] --;\n",
    "\n",
    "#                 // recalculate topic distribution\n",
    "#                 for(int k = 0; k < num_topics; k++) {\n",
    "#                     dis[k] = (topic_word_table[k][word] + beta) / (topic_table[k] + beta * vocab_size) * (doc_topic_table[d][k] + alpha);\n",
    "#                 }\n",
    "\n",
    "#                 topic = resample(dis);\n",
    "#                 T[d][j] = topic;\n",
    "#                 doc_topic_table[d][topic] ++;\n",
    "#                 topic_word_table[topic][word] ++;\n",
    "#                 topic_table[topic] ++;\n",
    "\n",
    "#             }\n",
    "#         }\n",
    "#         double llh = getLogLikelihood();\n",
    "#         LOG(\"Iteration: %d, loglikelihood: %.8f, time: %.2fs\\n\", iter, llh, timer.get_time_elapsed());\n",
    "#     }\n"
   ]
  },
  {
   "cell_type": "code",
   "execution_count": null,
   "metadata": {
    "collapsed": true
   },
   "outputs": [],
   "source": []
  }
 ],
 "metadata": {
  "kernelspec": {
   "display_name": "Python 3",
   "language": "python",
   "name": "python3"
  },
  "language_info": {
   "codemirror_mode": {
    "name": "ipython",
    "version": 3
   },
   "file_extension": ".py",
   "mimetype": "text/x-python",
   "name": "python",
   "nbconvert_exporter": "python",
   "pygments_lexer": "ipython3",
   "version": "3.5.2"
  }
 },
 "nbformat": 4,
 "nbformat_minor": 2
}
