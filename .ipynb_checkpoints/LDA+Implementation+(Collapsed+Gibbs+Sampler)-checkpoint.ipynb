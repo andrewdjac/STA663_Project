{
 "cells": [
  {
   "cell_type": "code",
   "execution_count": 26,
   "metadata": {
    "collapsed": true
   },
   "outputs": [],
   "source": [
    "# Load libraries\n",
    "import numpy as np"
   ]
  },
  {
   "cell_type": "code",
   "execution_count": 27,
   "metadata": {
    "collapsed": true
   },
   "outputs": [],
   "source": [
    "# Set seed\n",
    "np.random.seed(10)"
   ]
  },
  {
   "cell_type": "code",
   "execution_count": 47,
   "metadata": {
    "collapsed": true
   },
   "outputs": [],
   "source": [
    "# Doc params\n",
    "V = 50\n",
    "N = 800\n",
    "K = 3\n",
    "M = 2"
   ]
  },
  {
   "cell_type": "code",
   "execution_count": 48,
   "metadata": {
    "collapsed": true
   },
   "outputs": [],
   "source": [
    "# Set true params\n",
    "alpha_true = np.array([10, 1, 2])\n",
    "beta_true = np.random.randint(1, 10, V)"
   ]
  },
  {
   "cell_type": "code",
   "execution_count": 49,
   "metadata": {
    "collapsed": true
   },
   "outputs": [],
   "source": [
    "# Generate data\n",
    "phi_true = np.zeros((K, V))\n",
    "for k in range(K):\n",
    "    phi_true[k, :] = np.random.dirichlet(beta_true)"
   ]
  },
  {
   "cell_type": "code",
   "execution_count": 50,
   "metadata": {
    "collapsed": true
   },
   "outputs": [],
   "source": [
    "theta_true = np.zeros((M, K))\n",
    "for m in range(M):\n",
    "    theta_true[m,:] = np.random.dirichlet(alpha_true)"
   ]
  },
  {
   "cell_type": "code",
   "execution_count": 51,
   "metadata": {
    "collapsed": true
   },
   "outputs": [],
   "source": [
    "doc_lens = np.random.randint(100, N, M)\n",
    "z_true = {}\n",
    "w = {}\n",
    "for m in range(M):\n",
    "    z_true[m] = []\n",
    "    w[m] = []\n",
    "    for n in range(doc_lens[m]):\n",
    "        z_true[m].extend(np.nonzero(np.random.multinomial(1, theta_true[m,:]))[0])\n",
    "        w[m].extend(np.nonzero(np.random.multinomial(1, phi_true[z_true[m][n], :]))[0])"
   ]
  },
  {
   "cell_type": "code",
   "execution_count": 52,
   "metadata": {
    "collapsed": false
   },
   "outputs": [
    {
     "data": {
      "text/plain": [
       "2"
      ]
     },
     "execution_count": 52,
     "metadata": {},
     "output_type": "execute_result"
    }
   ],
   "source": [
    "#z_true = np.zeros((M, N), dtype = \"int\")\n",
    "#w = np.zeros((M, N), dtype = \"int\")\n",
    "#for m in range(M):\n",
    "#    for n in range(N):\n",
    "#        z_true[m, n] = np.nonzero(np.random.multinomial(1, theta_true[m,:]))[0]\n",
    "#        w[m, n] = np.nonzero(np.random.multinomial(1, phi_true[z_true[m, n], :]))[0]\n",
    "len(w)"
   ]
  },
  {
   "cell_type": "code",
   "execution_count": 53,
   "metadata": {
    "collapsed": true
   },
   "outputs": [],
   "source": [
    "# Set initial z randomly\n",
    "z = {}\n",
    "for m in range(M):\n",
    "    z[m] = []\n",
    "    for n in range(doc_lens[m]):\n",
    "        z[m].extend(np.nonzero(np.random.multinomial(1, np.ones(K)/K))[0])"
   ]
  },
  {
   "cell_type": "code",
   "execution_count": 54,
   "metadata": {
    "collapsed": true
   },
   "outputs": [],
   "source": [
    "# Create count matrices\n",
    "A = np.zeros((M, K))\n",
    "for m in range(M):\n",
    "    for k in range(K):\n",
    "        A[m, k] = sum(np.array(z[m]) == k)"
   ]
  },
  {
   "cell_type": "code",
   "execution_count": 55,
   "metadata": {
    "collapsed": true
   },
   "outputs": [],
   "source": [
    "B = np.zeros((K, V))\n",
    "for m in range(M):\n",
    "    for n in range(doc_lens[m]):\n",
    "        B[z[m][n], w[m][n]] += 1"
   ]
  },
  {
   "cell_type": "code",
   "execution_count": 56,
   "metadata": {
    "collapsed": true
   },
   "outputs": [],
   "source": [
    "C = np.zeros(K)\n",
    "for m in range(M):\n",
    "    for n in range(doc_lens[m]):\n",
    "        C[z[m][n]] += 1"
   ]
  },
  {
   "cell_type": "code",
   "execution_count": 57,
   "metadata": {
    "collapsed": true
   },
   "outputs": [],
   "source": [
    "# Set initial z randomly\n",
    "#z = np.zeros((M, N), dtype = \"int\")\n",
    "#for m in range(M):\n",
    "#    for n in range(N):\n",
    "#        z[m, n] = np.random.binomial(1, 0.5)"
   ]
  },
  {
   "cell_type": "code",
   "execution_count": 58,
   "metadata": {
    "collapsed": true
   },
   "outputs": [],
   "source": [
    "# Create count matrices\n",
    "#A = np.zeros((M, K))\n",
    "#for m in range(M):\n",
    "#    for k in range(K):\n",
    "#        A[m, k] = sum(z[m, :] == k)"
   ]
  },
  {
   "cell_type": "code",
   "execution_count": 59,
   "metadata": {
    "collapsed": true
   },
   "outputs": [],
   "source": [
    "#B = np.zeros((K, V))\n",
    "#for m in range(M):\n",
    "#    for n in range(N):\n",
    "#        B[z[m, n], w[m, n]] += 1"
   ]
  },
  {
   "cell_type": "code",
   "execution_count": 60,
   "metadata": {
    "collapsed": true
   },
   "outputs": [],
   "source": [
    "#C = np.zeros(K)\n",
    "#for m in range(M):\n",
    "#    for n in range(N):\n",
    "#        C[z[m, n]] += 1"
   ]
  },
  {
   "cell_type": "code",
   "execution_count": 61,
   "metadata": {
    "collapsed": true
   },
   "outputs": [],
   "source": [
    "# set hyperparameters alpha and beta\n",
    "alpha = np.ones(K)\n",
    "beta = np.ones(V)\n",
    "#alpha = alpha_true\n",
    "#beta = beta_true"
   ]
  },
  {
   "cell_type": "code",
   "execution_count": null,
   "metadata": {
    "collapsed": false
   },
   "outputs": [],
   "source": [
    "# start gibbs sampler\n",
    "num_iter = 10000\n",
    "for i in range(num_iter):\n",
    "    for m in range(M):\n",
    "        for n in range(doc_lens[m]):\n",
    "            A[m, z[m][n]] -= 1  # Decrement N1\n",
    "            B[z[m][n], w[m][n]] -= 1 # Decrement N2\n",
    "            C[z[m][n]] -= 1 # Decrement N3\n",
    "            p = np.zeros(K)\n",
    "            for k in range(K):\n",
    "                p[k] = (A[m, k] + alpha[k])*((B[k, w[m][n]] + beta[w[m][n]])/(C[k] + sum(beta)))\n",
    "            p /= sum(p) # This is actually doing k divisions... might be a modest speed up but we can parallelize easily with numba\n",
    "            z[m][n] = np.nonzero(np.random.multinomial(1, p))[0][0]\n",
    "            A[m, z[m][n]] += 1 # Increment N1\n",
    "            B[z[m][n], w[m][n]] += 1 # Increment N2\n",
    "            C[z[m][n]] += 1 # Increment N3"
   ]
  },
  {
   "cell_type": "code",
   "execution_count": null,
   "metadata": {
    "collapsed": false
   },
   "outputs": [],
   "source": [
    "# p = np.array([.5, .1, .4])\n",
    "# np.nonzero(np.random.multinomial(1, p))\n",
    "?np.nonzero"
   ]
  },
  {
   "cell_type": "code",
   "execution_count": null,
   "metadata": {
    "collapsed": true
   },
   "outputs": [],
   "source": [
    "# start gibbs sampler\n",
    "#num_iter = 10000\n",
    "#for i in range(num_iter):\n",
    "#    for m in range(M):\n",
    "#        for n in range(N):\n",
    "#            A[m, z[m, n]] -= 1\n",
    "#            B[z[m, n], w[m, n]] -= 1\n",
    "#            C[z[m, n]] -= 1\n",
    "#            p = np.zeros(K)\n",
    "#            for k in range(K):\n",
    "#                p[k] = (A[m, k] + alpha[k])*((B[k, w[m, n]] + beta[w[m, n]])/(C[k] + sum(beta)))\n",
    "#            p /= sum(p)\n",
    "#            z[m, n] = np.nonzero(np.random.multinomial(1, p))[0]\n",
    "#            A[m, z[m, n]] += 1\n",
    "#            B[z[m, n], w[m, n]] += 1\n",
    "#            C[z[m, n]] += 1"
   ]
  },
  {
   "cell_type": "code",
   "execution_count": null,
   "metadata": {
    "collapsed": false
   },
   "outputs": [],
   "source": [
    "theta = np.zeros((M, K))\n",
    "for m in range(M):\n",
    "    for k in range(K):\n",
    "        theta[m , k] = (A[m, k] + alpha[k])/(doc_lens[m] + sum(alpha))\n",
    "np.round(theta, 2)"
   ]
  },
  {
   "cell_type": "code",
   "execution_count": null,
   "metadata": {
    "collapsed": false
   },
   "outputs": [],
   "source": [
    "np.round(theta_true, 2)"
   ]
  },
  {
   "cell_type": "code",
   "execution_count": null,
   "metadata": {
    "collapsed": true
   },
   "outputs": [],
   "source": []
  }
 ],
 "metadata": {
  "kernelspec": {
   "display_name": "Python 3",
   "language": "python",
   "name": "python3"
  },
  "language_info": {
   "codemirror_mode": {
    "name": "ipython",
    "version": 3
   },
   "file_extension": ".py",
   "mimetype": "text/x-python",
   "name": "python",
   "nbconvert_exporter": "python",
   "pygments_lexer": "ipython3",
   "version": "3.5.2"
  }
 },
 "nbformat": 4,
 "nbformat_minor": 2
}
