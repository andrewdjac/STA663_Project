{
 "cells": [
  {
   "cell_type": "markdown",
   "metadata": {},
   "source": [
    "# Implementing Latent Dirichlet Allocation for Topic Modeling and Document Classification\n",
    "\n",
    "### Andrew Cooper, Brian Cozzi"
   ]
  },
  {
   "cell_type": "markdown",
   "metadata": {},
   "source": [
    "## Abstract"
   ]
  },
  {
   "cell_type": "markdown",
   "metadata": {},
   "source": [
    "In this report we implement a form of Latent Dirichlet Allocation for topic modeling. Latent Dirichlet Allocation (LDA) was first introduced by Blei, Ng, and Jordan in 2003 as a hierarchical modeling approach for discrete data such as text in a corpus. This algorithm hinges on the notion that collections of data, such as text in a document, are generated according to a latent topic distribution, where each topic assigns probabilities to different words. The purpose of LDA in topic modeling is to group documents based on similar topic distributions, and to identify key words in each topic. Using a collapsed Gibbs sampler approach to LDA as described in Darling 2011, we implement an algorithm that estimates the latent topic distributions of a given corpus of documents. In addition, our algorithm returns key words assigned to each topic. We optimize our algorithm's Gibbs sampler using \"just-in-time\" compilation. We then evaluate the performance of our algorithm on both simulated data and documents from the Newsgroups corpus. Finally, we compare the accuracy of our algorithm to a variational bayes approach to LDA and to Latent Semantic Analysis (LSA).\n",
    "\n",
    "Key phrases: Latent Dirichlet Allocation, Topic Modeling, Collapsed Gibbs Sampler, Newsgroups Corpus, Variational Bayes, Latent Semantic Analysis"
   ]
  },
  {
   "cell_type": "markdown",
   "metadata": {},
   "source": [
    "## 1. Background"
   ]
  },
  {
   "cell_type": "markdown",
   "metadata": {},
   "source": [
    "This paper provides an overview of the implementation, optimization, and applications of Latent Dirichlet Allocation (LDA). LDA was first introduced in a seminal paper by Blei, Ng, and Jordan in 2003 as an attempt to hierarchically model discrete data such as text in a set of  documents. The original paper primarily focused on topic modeling as it pertains to text data and, for consistency and in the interest of comprehensibility, this is the application area where we will focus the remainder of this paper. In addition, rather than implementing the procedure with the Expectation Maximization approach outlined in Blei, Ng and Jordan, we will instead implement the inference using a collapsed Gibbs Sampler. \n",
    "\n",
    "LDA is a widely applicable topic modeling framework for a variety of disciplines. In fields of social and life sciences, the simplification of large sets of categorical data are necessary to quantify similarities and detect anomialies between these large and superficially heterogeneous objects. Perhaps the most abundant and accessible source of this type of categorical data comes from text. Researchers have been able to used in projects as disparate (or seemingly disparate) as finding topics in scientific literature (3) and personalizing medical recommendations (4). With over 20,000 citations (as of 30 April 2019) LDA has emerged as one of the most prolific and dominant methods for modeling topics in text across disciplines.\n",
    "\n",
    "LDA is a Bayesian hierarchical model with 3 \"levels\". The lowest is the (discrete) item level which, in an example using text, is a word. The model suggests that this item is produced by some latent \"topic\". Then, a finite number of these items are understood to be part of a collection (a document) making a collection a finite mixture of its constinuents' underlying topics. Over a set of these collections, each topic is modeled as an infinite mixture over topic probabilities. \n",
    "\n",
    "Despite its wide applicability, it is not without some minor drawbacks. While it's not unique to this approach of topic modeling, it neglects the word order in the documents. There are certain extensions of this problem to get around this. For example, rather than just considering occurrences of single words, we can also consider $n$ adjacent words (commonly called $n$-grams) to capture information about phrases. In this case too, the order of the $n$-grams is neglected.\n",
    "\n",
    "Additionally, in its original formulation, it can be very challenging to implement. In this paper, we follow the lead of several others who have chosen to implement LDA using a form of Gibbs sampling described below."
   ]
  },
  {
   "cell_type": "markdown",
   "metadata": {},
   "source": [
    "## 2. Description of Algorithm"
   ]
  },
  {
   "cell_type": "markdown",
   "metadata": {},
   "source": [
    "The LDA algorithm takes in 4 inputs: a corpus of documents, the number of topics, two optional choices for hyperparameters, and an optional specification on the number iterations for the Gibbs Sampler. The ultimate goal of the algorithm is to estimate the topic distribution for each document as well as the word distribution for each topic. It does this by making inference on the latent topics of each word in the given corpus. We perform this inference by implementing a Gibbs sampler. First the algorithm sets a starting point by randomly sampling topics for each of the words in the corpus. Then it iteratively samples new topics for each word using calculated posterior probabilities. After a number of iterations, the Gibbs Sampler returns the estimated topics for each word, which are then used to calculate the latent topic distributions and word distributions using Monte Carlo estimation. These estimated quantities are returned to the user."
   ]
  },
  {
   "cell_type": "markdown",
   "metadata": {},
   "source": [
    "### 2.1 Variables"
   ]
  },
  {
   "cell_type": "markdown",
   "metadata": {},
   "source": [
    "The LDA algorithm has many different symbols and components. We establish all the symbols used in our algorithm below:\n",
    "\n",
    "* $K$ = The number of topics\n",
    "* $M$ = The number of documents in the corpus\n",
    "* $N_m$ = The number of words in document $m$\n",
    "* $V$ = The number of possible words\n",
    "* $w_{m,n}$ = The nth word in document $m$\n",
    "* $z_{m,n}$ = The nth topic in document $m$ \n",
    "* $\\theta_m$ = The topic distribution of document $m$\n",
    "* $\\phi_k$ = The word distribution of topic $k$"
   ]
  },
  {
   "cell_type": "markdown",
   "metadata": {},
   "source": [
    "### 2.2 Algorithm Input"
   ]
  },
  {
   "cell_type": "markdown",
   "metadata": {},
   "source": [
    "The algorithm takes as input a corpus of documents represented as a $M$x$V$  bag-of-words matrix. In addition, it takes as input the number of topics $K$. It also takes in two positive values representing the hyperparameters for the topic distribution ($\\alpha$) and the word distribution ($\\beta$). For this implementation we use symmetric priors for the dirichlet distributions, which means only one value is needed as input for each prior. Finally it takes as input the number iterations for the Gibbs sampler."
   ]
  },
  {
   "cell_type": "markdown",
   "metadata": {},
   "source": [
    "### 2.3 Gibbs Sampler"
   ]
  },
  {
   "cell_type": "markdown",
   "metadata": {},
   "source": [
    "The algorithm for LDA has three main steps. The first step of the algorithm is preparing the data for the Gibbs sampler. As a starting point for our sampler, we first must randomly assign topics $z_{m,n}$ for each of the words in the given corpus. We then create two different count matrices, $N_1$ and $N_2$: $N_1$ is a $M$x$K$ matrix that counts the distribution of topics across documents. $N_2$ is a $K$x$V$ matrix that counts the distribution of words across topics. The count matrices are initialized according to the random topic assignment.\n",
    "\n",
    "The second step is the implementation of the Gibbs sampler. For each iteration, our sampler loops through every word $w_{m,n}$ in every document of our corpus. For each word, we first remove its assigned topic and decrement the appropriate count matrices $N_1$, $N_2$, and $N_3$. We then calculate the posterior probabilities of the word belonging to each of the possible topics. One of these topics is sampled using these probabilities and is assigned to the word. Finally, all of the count matrices are incremented according to this new topic. This process is done for all the words in the corpus for how many iterations the user specified."
   ]
  },
  {
   "cell_type": "markdown",
   "metadata": {},
   "source": [
    "***Gibbs Sampler Implementation***\n",
    "\n",
    "* Randomly assign topics $z_{m,n}$ for all words in corpus, and initialize count matrices $N_1$ and $N_2$\n",
    "\n",
    "* **for** $i = 1$ to n_iter:\n",
    "   * **for** $m = 1$ to $M$:\n",
    "       * **for** $n = 1$ to $N_m$:\n",
    "           * $w = w_{m,n}$\n",
    "           * $z_{old} = z_{m,n}$\n",
    "           * $N_1[m, z_{old}] -= 1$\n",
    "           * $N_2[z_{old}, w] -= 1$\n",
    "           * **for** $k = 1$ to $K$:\n",
    "               * $p_k = Pr(z = k | \\dots) \\propto (N_1[m, k] + \\alpha[k])*\\dfrac{N_2[k, w] + \\beta[w]}{\\sum_V{N_2[k, v] + \\beta[v]}}$\n",
    "           * Normalize $p$ \n",
    "           * $z_{new} = $ Sample from $Cat(K, p)$\n",
    "           * $z_{m,n} = z_{new}$\n",
    "           * $N_1[m, z_{new}] += 1$\n",
    "           * $N_2[z_{new}, w] += 1$"
   ]
  },
  {
   "cell_type": "markdown",
   "metadata": {},
   "source": [
    "### 2.4 Parameter Estimation"
   ]
  },
  {
   "cell_type": "markdown",
   "metadata": {},
   "source": [
    "The third step to the algorithm is estimating and returning the quantities of interest. One quantity to estimate is the topic distribution $\\theta_m$ for each document $m$. Another quantity to estimate is the word distribution $\\phi_k$ for each topic. These quantities are estimated using the count matrices $N_1$ and $N_2$ established in the Gibbs sampler:\n",
    "\n",
    "$\\hat{\\theta}_{m,k} = \\dfrac{N_1[m, k] + \\alpha[k]}{\\sum_k{N_1[m, k] + \\alpha[k]}}$ \n",
    "\n",
    "$\\hat{\\phi}_{k, v} = \\dfrac{N_2[k, v] + \\beta[v]}{\\sum_v{N_2[k, v] + \\beta[v]}}$"
   ]
  },
  {
   "cell_type": "markdown",
   "metadata": {},
   "source": [
    "## 3. Description of Performance Optimization"
   ]
  },
  {
   "cell_type": "markdown",
   "metadata": {},
   "source": [
    "In the algorithm described above, we see that each iteration of the algorithm runs in $O(MNK)$ time. On its surface, this does not appear to scale well especially as more documents, topics or words are added to the corpus. However, leveraging Python's interface with C and its ability to execute loops much faster than base Python, we can make the run time much more managable. \n",
    "\n",
    "It is also worth considering what type of optimization cannot be done. The most obvious limitation is in the outermost loop (Loop 1 in the pseudocode below). This is a Gibbs sampler which means that subsequent iterations of the sampler depend on previous iterations. Therefore, these iterations cannot be done in parallel.\n",
    "JIT nopython mode: A Numba compilation mode that generates code that does not access the Python C API. This compilation mode produces the highest performance code, but requires that the native types of all values in the function can be inferred. Unless otherwise instructed, the @jit decorator will automatically fall back to object mode if nopython mode cannot be used."
   ]
  },
  {
   "cell_type": "markdown",
   "metadata": {},
   "source": [
    "It is also worth consider what type of optimization cannot be done. The most obvious limitation is in the outermost loop. This is a Gibbs sampler which means that subsequent iterations of the sampler depend on previous iterations. Therefore, these iterations cannot be done in parallel.\n",
    "\n",
    "To investigate the remaining opportunities to optimize, we can consider the pseudocode below where we notice that there are 3 main loops for each iteration of the Gibbs sampler:"
   ]
  },
  {
   "cell_type": "markdown",
   "metadata": {},
   "source": [
    "* **for** $i = 1$ to n_iter: $\\boxed{\\textbf{LOOP 1}}$\n",
    "   * **for** $m = 1$ to $M$:  $\\boxed{\\textbf{LOOP 2}}$\n",
    "       * **for** $n = 1$ to $N_m$: $\\boxed{\\textbf{LOOP 3}}$\n",
    "           * $w = w_{m,n}$\n",
    "           * $z_{old} = z_{m,n}$\n",
    "           * $N_1[m, z_{old}] -= 1$\n",
    "           * $N_2[z_{old}, w] -= 1$\n",
    "           * **for** $k = 1$ to $K$: $\\boxed{\\textbf{LOOP 4}}$\n",
    "               * $p_k = Pr(z = k | \\dots) \\propto (N_1[m, k] + \\alpha[k])*\\dfrac{N_2[k, w] + \\beta[w]}{\\sum_V{N_2[k, v] + \\beta[v]}}$\n",
    "           * Normalize $p$ \n",
    "           * $z_{new} = $ Sample from $Cat(K, p)$\n",
    "           * $z_{m,n} = z_{new}$\n",
    "           * $N_1[m, z_{new}] += 1$\n",
    "           * $N_2[z_{new}, w] += 1$"
   ]
  },
  {
   "cell_type": "markdown",
   "metadata": {},
   "source": [
    "### 3.1 Loop 4\n",
    "The task of the innermost loop (Loop 4) is to calculate the posterior probability of a topic given the observed count matrices. As noted, the equation provides the joint distribution, but not the normalizing constant. Inside this loop, it is clear that the values used as inputs are not changing over subsequent iterations: it is simply performing $K$ independent operations. This makes it a great candidate for parallelization however, using JIT for the remaining loops made this impossible. We will expand on this later.\n",
    "\n",
    "Instead, this loop was optimized using JIT and its _nopython_ option. Below, we provide initialization of a toy dataset and baseline timing for the Gibbs sampler:"
   ]
  },
  {
   "cell_type": "markdown",
   "metadata": {},
   "source": [
    "#### _Initialization_"
   ]
  },
  {
   "cell_type": "code",
   "execution_count": null,
   "metadata": {},
   "outputs": [],
   "source": [
    "# Initializing Values and Count matrices \n",
    "from LDA_AandB.Optimization_Examples import initialize, Gibbs\n",
    "M, doc_lens, Z, W, K, A, B, C, alpha, beta = initialize()"
   ]
  },
  {
   "cell_type": "markdown",
   "metadata": {},
   "source": [
    "#### _Baseline Timing_"
   ]
  },
  {
   "cell_type": "code",
   "execution_count": null,
   "metadata": {},
   "outputs": [],
   "source": [
    "%timeit -r30 -n30 Gibbs(M, doc_lens, Z, W, K, A, B, C, alpha, beta)"
   ]
  },
  {
   "cell_type": "markdown",
   "metadata": {},
   "source": [
    "#### _Loop 4 Optimization Timing_"
   ]
  },
  {
   "cell_type": "code",
   "execution_count": null,
   "metadata": {},
   "outputs": [],
   "source": [
    "from LDA_AandB.Optimization_Examples import Gibbs_faster\n",
    "%timeit -r30 -n30 Gibbs_faster(M, doc_lens, Z, W, K, A, B, C, alpha, beta)"
   ]
  },
  {
   "cell_type": "markdown",
   "metadata": {},
   "source": [
    "We can see from this timing that the optimization of the innermost loop resulted in a noticeable timing improvement from the original function. We now can turn our attention to loops over documents and words."
   ]
  },
  {
   "cell_type": "markdown",
   "metadata": {},
   "source": [
    "## 4. Applications to Simulated Datasets"
   ]
  },
  {
   "cell_type": "markdown",
   "metadata": {},
   "source": [
    "In the LDA framework, documents are assumed to be generated under the following stochastic process:\n",
    "\n",
    "For each document $m$, sample topic distribution $ \\theta_m \\sim Dirichlet(\\alpha)$\n",
    "\n",
    "For each topic $k$, sample word distribution $ \\phi_k \\sim Dirichlet(\\beta)$\n",
    "\n",
    "For each word $n$ in each document,\n",
    "\n",
    "1) Sample topic $z_n \\sim Cat(\\theta_m)$\n",
    "\n",
    "2) Sample word $w_n \\sim Cat(\\phi_{z_n})$"
   ]
  },
  {
   "cell_type": "markdown",
   "metadata": {},
   "source": [
    "To assess the correctness of our LDA algorithm, we simulate data under this stochastic process. We then train this data on our algorithm and compare the parameter estimates to the true parameters.\n",
    "\n",
    "We simulate a corpus of 10 documents containing 100 unique \"words\". Documents in the corpus are composed of 2 different topics and contain between 150 and 200 words."
   ]
  },
  {
   "cell_type": "code",
   "execution_count": 22,
   "metadata": {},
   "outputs": [],
   "source": [
    "# Load libraries\n",
    "import numpy as np\n",
    "from LDA_AandB.test_data_generator import simulate_corpus\n",
    "from LDA_AandB.lda_code import lda, group_docs\n",
    "np.random.seed(101)"
   ]
  },
  {
   "cell_type": "code",
   "execution_count": 23,
   "metadata": {},
   "outputs": [],
   "source": [
    "# Set corpus parameters\n",
    "V = 100\n",
    "N_min = 150\n",
    "N_max = 200\n",
    "K = 2\n",
    "M = 10\n",
    "\n",
    "# Set hyperparameters\n",
    "alpha_true = np.random.randint(1, 10, K)\n",
    "beta_true = np.random.randint(1, 10, V)\n",
    "\n",
    "# Generate simulated corpus\n",
    "bow, theta_true, phi_true = simulate_corpus(alpha_true, beta_true, M, N_min, N_max)"
   ]
  },
  {
   "cell_type": "markdown",
   "metadata": {},
   "source": [
    "The accuracy of our LDA depends on the choice of the hyperparameters $\\alpha$ and $\\beta$. The closer these hyperparameters are to the true values of the dataset, the better the algorithm's estimates of the topic and word distributions. \n",
    "\n",
    "When the hyperparameters $\\alpha$ and $\\beta$ are chosen to be the true values, our LDA algorithm captures the true topic distributions very well."
   ]
  },
  {
   "cell_type": "code",
   "execution_count": 24,
   "metadata": {},
   "outputs": [
    {
     "name": "stdout",
     "output_type": "stream",
     "text": [
      "Mean squared-error in topic probability estimates: 0.015881327708350247\n",
      "Documents labeled in group 1 : []\n",
      "Documents labeled in group 2 : [0 1 2 3 4 5 6 7 8 9]\n",
      "LDA document groups: None\n",
      "Documents labeled in group 1 : []\n",
      "Documents labeled in group 2 : [0 1 2 3 4 5 6 7 8 9]\n",
      "True document groups: None\n"
     ]
    }
   ],
   "source": [
    "# Train data on LDA implementation\n",
    "theta, phi = lda(bow, K, alpha_true, beta_true, 1000)\n",
    "#print(\"Estimated topic distributions:\\n\", theta)\n",
    "#print(\"True topic distributions:\\n\", theta_true)\n",
    "print(\"Mean squared-error in topic probability estimates:\", np.mean((theta - theta_true)**2))\n",
    "print(\"LDA document groups:\", group_docs(theta, K))\n",
    "print(\"True document groups:\", group_docs(theta_true, K))"
   ]
  },
  {
   "cell_type": "markdown",
   "metadata": {},
   "source": [
    "However, in real-world scenarios we don't know what the true values of $\\alpha$ and $\\beta$ are. In the case where the chosen hyperparameters are $\\textbf{not}$ the true values from the data, our LDA algorithm's estimates are less accurate."
   ]
  },
  {
   "cell_type": "code",
   "execution_count": 20,
   "metadata": {},
   "outputs": [
    {
     "name": "stdout",
     "output_type": "stream",
     "text": [
      "Mean squared-error in topic probability estimates: 0.10722539488091598\n",
      "Documents labeled in group 1 : [4 5 6]\n",
      "Documents labeled in group 2 : [0 1 2 3 7 8 9]\n",
      "LDA document groups: None\n",
      "Documents labeled in group 1 : []\n",
      "Documents labeled in group 2 : [0 1 2 3 4 5 6 7 8 9]\n",
      "True document groups: None\n"
     ]
    }
   ],
   "source": [
    "# Train data on LDA implementation\n",
    "theta, phi = lda(bow, K, 1, 1, 1000)\n",
    "#print(\"Estimated topic distributions:\", theta)\n",
    "#print(\"True topic distributions:\", theta_true)\n",
    "print(\"Mean squared-error in topic probability estimates:\", np.mean((theta - theta_true)**2))\n",
    "print(\"LDA document groups:\", group_docs(theta, 2))\n",
    "print(\"True document groups:\", group_docs(theta_true, 2))"
   ]
  },
  {
   "cell_type": "markdown",
   "metadata": {},
   "source": [
    "While our LDA algorithm performs correctly, the simulated data testing illustrates how choosing proper prior parameters for the model can severly affect acccuracy in parameter estimation. Because of this, it is important to try different hyperparameters and perform sensitivity analysis."
   ]
  },
  {
   "cell_type": "markdown",
   "metadata": {},
   "source": [
    "## 5. Applications to Real Dataset"
   ]
  },
  {
   "cell_type": "markdown",
   "metadata": {},
   "source": [
    "We apply our algorithm to the Newsgroups corpus. This popular corpus contains documents from 30 different topics ranging from science to politics to religion.\n",
    "\n",
    "For our analysis we choose 15 randomly chosen documents from the Newsgroups corpus under the categories \"Computer Graphics\" and \"Christianity\". We then assess how accurately our LDA algorithm classifies these documents."
   ]
  },
  {
   "cell_type": "code",
   "execution_count": 25,
   "metadata": {},
   "outputs": [],
   "source": [
    "# Load libraries\n",
    "import numpy as np\n",
    "from LDA_AandB.lda_code import lda, group_docs, get_key_words\n",
    "from LDA_AandB.test_data_generator import get_newsgroups, newsgroups_categories\n",
    "np.random.seed(101)"
   ]
  },
  {
   "cell_type": "code",
   "execution_count": 26,
   "metadata": {},
   "outputs": [
    {
     "name": "stdout",
     "output_type": "stream",
     "text": [
      "Document Categories: ['soc.religion.christian', 'soc.religion.christian', 'comp.graphics', 'soc.religion.christian', 'comp.graphics', 'soc.religion.christian', 'soc.religion.christian', 'soc.religion.christian', 'comp.graphics', 'soc.religion.christian', 'soc.religion.christian', 'comp.graphics', 'soc.religion.christian', 'soc.religion.christian', 'comp.graphics']\n"
     ]
    }
   ],
   "source": [
    "cats = [newsgroups_categories[i] for i in [1, 15]]\n",
    "bow_news, labels, words = get_newsgroups(cats, 15)\n",
    "print(\"Document Categories:\", [cats[i] for i in labels])"
   ]
  },
  {
   "cell_type": "code",
   "execution_count": 27,
   "metadata": {},
   "outputs": [],
   "source": [
    "theta, phi = lda(bow_news, 2)"
   ]
  },
  {
   "cell_type": "code",
   "execution_count": 32,
   "metadata": {},
   "outputs": [
    {
     "name": "stdout",
     "output_type": "stream",
     "text": [
      "Documents labeled in group 1 : [ 0  1  3  5  6  7  8  9 10 11 12 13 14]\n",
      "Documents labeled in group 2 : [2 4]\n",
      "Key words for topic 1 :  ['accelerators', 'according', 'actions', 'actually', 'address', 'alive', 'allow', 'amiga', 'anonyomus', 'answer', 'ask', 'atheist', 'away', 'basis', 'behind', 'beset', 'beside', 'biblical', 'bigger', 'buy', 'cd', 'certainly', 'changing', 'cloudless', 'colour', 'commerical', 'copulating', 'copy', 'country', 'curious', 'curtain', 'declared', 'deforestation', 'demonstrated', 'demonstrates', 'descriptions', 'destroyed', 'determining', 'devastation', 'discovering', 'discussion', 'display', 'drilled', 'earth', 'email', 'encourage', 'evaluate', 'explanation', 'fail', 'finally']\n",
      "Key words for topic 2 :  ['able', 'about', 'absolute', 'absolutely', 'absurdity', 'accept', 'accordance', 'accurate', 'across', 'acting', 'action', 'acts', 'add', 'adding', 'admit', 'adulterous', 'again', 'against', 'all', 'allows', 'alone', 'also', 'although', 'always', 'amazing', 'amounts', 'and', 'another', 'answering', 'answers', 'any', 'anything', 'apathetic', 'appear', 'appears', 'are', 'area', 'argument', 'around', 'arrogant', 'as', 'assume', 'assumptions', 'astray', 'at', 'average', 'back', 'based', 'be', 'beatific']\n"
     ]
    }
   ],
   "source": [
    "group_docs(theta, 2)\n",
    "labels\n",
    "get_key_words(phi, 50, words)"
   ]
  },
  {
   "cell_type": "markdown",
   "metadata": {},
   "source": []
  },
  {
   "cell_type": "markdown",
   "metadata": {},
   "source": [
    "## 6. Comparative Analysis with Competing Algorithms"
   ]
  },
  {
   "cell_type": "markdown",
   "metadata": {},
   "source": [
    "We compare our LDA algorithm to an alternative approach to LDA and to another method of document classification called latent semantic analysis, or LSA. We use same simulated dataset used in the previous section."
   ]
  },
  {
   "cell_type": "markdown",
   "metadata": {},
   "source": [
    "### 6.1 Latent Dirichlet Allocation (Variational Bayes Approach)"
   ]
  },
  {
   "cell_type": "markdown",
   "metadata": {},
   "source": [
    "The sklearn package in python implements LDA using the variational bayes approach as described in the original 2003 paper. The variational bayes approach introduces additional variational parameters to optimize. The algorithm minimizes the KL divergence between the posterior probability of the actual parameters and the posterior probability of the new variational parameters. The parameters are estimated using an Expectation-Maximization approach."
   ]
  },
  {
   "cell_type": "code",
   "execution_count": 39,
   "metadata": {},
   "outputs": [
    {
     "name": "stdout",
     "output_type": "stream",
     "text": [
      "Documents labeled in group 1 : [0 1 2 3 4 5 6 7 8 9]\n",
      "Documents labeled in group 2 : []\n"
     ]
    },
    {
     "name": "stderr",
     "output_type": "stream",
     "text": [
      "/opt/conda/lib/python3.6/site-packages/sklearn/decomposition/online_lda.py:536: DeprecationWarning: The default value for 'learning_method' will be changed from 'online' to 'batch' in the release 0.20. This warning was introduced in 0.18.\n",
      "  DeprecationWarning)\n"
     ]
    }
   ],
   "source": [
    "from sklearn.decomposition import LatentDirichletAllocation\n",
    "from sklearn.datasets import make_multilabel_classification\n",
    "\n",
    "lda = LatentDirichletAllocation(n_components = 2,\n",
    "                                random_state = 0)\n",
    "lda.fit(bow) \n",
    "LatentDirichletAllocation(...)\n",
    "\n",
    "results = lda.transform(bow)\n",
    "group_docs(results, 2)"
   ]
  },
  {
   "cell_type": "markdown",
   "metadata": {},
   "source": []
  },
  {
   "cell_type": "markdown",
   "metadata": {},
   "source": [
    "### 6.2 Latent Semantic Analysis"
   ]
  },
  {
   "cell_type": "markdown",
   "metadata": {},
   "source": [
    "LSA is a different approach to classification than LDA. In essence, LSA is an application of a singular value decomposition, or SVD."
   ]
  },
  {
   "cell_type": "code",
   "execution_count": 40,
   "metadata": {},
   "outputs": [
    {
     "name": "stdout",
     "output_type": "stream",
     "text": [
      "Documents labeled in group 1 : [0 1 2 3 4 5 6 7 8 9]\n",
      "Documents labeled in group 2 : []\n"
     ]
    }
   ],
   "source": [
    "from sklearn.decomposition import TruncatedSVD\n",
    "from sklearn.random_projection import sparse_random_matrix\n",
    "\n",
    "svd = TruncatedSVD(n_components = 2, n_iter = 7, random_state = 42)\n",
    "TruncatedSVD(algorithm = 'randomized', n_components = 2, n_iter = 7,\n",
    "        random_state = 42, tol = 0.0)\n",
    "\n",
    "results = svd.fit_transform(bow)\n",
    "np.argmax(results, axis = 1)\n",
    "group_docs(results, 2)"
   ]
  },
  {
   "cell_type": "markdown",
   "metadata": {},
   "source": [
    "The comparison between the three algorithms shows that LSA performs the least accurately in estimating the true document distributions. LSA is the least complex of the three models, so it makes sense it performs more poorly than LDA.\n",
    "\n",
    "LDA implemented using the variational bayes approach appears to perform similarly to LDA implemented using the collapsed Gibbs sampler, even slightly better. This is likely because the LDA algorithm implemented in Sklearn does some form of parameter tuning/optimization for the hyperparameters, which improves its accuracy. In addition, the LDA algorithm under variational bayes performs much faster. This is likely because the variational bayes approach is faster computationally, as it doesn't need to iterate over all the words in the corpus like like in the Gibbs sampler approach."
   ]
  },
  {
   "cell_type": "markdown",
   "metadata": {},
   "source": [
    "## 7. Discussion/Conclusion"
   ]
  },
  {
   "cell_type": "markdown",
   "metadata": {},
   "source": [
    "The LDA algorithm proves to be a powerful tool in classifying "
   ]
  },
  {
   "cell_type": "markdown",
   "metadata": {},
   "source": [
    "## References/Bibliography"
   ]
  },
  {
   "cell_type": "markdown",
   "metadata": {},
   "source": [
    "Darling, W.M. (2011). A Theoretical and Practical Implementation Tutorial on Topic Modeling and Gibbs Sampling.\n",
    "\n",
    "David M. Blei, Andrew Y. Ng, and Michael I. Jordan. 2003. Latent dirichlet allocation. J. Mach. Learn. Res. 3 (March 2003), 993-1022."
   ]
  }
 ],
 "metadata": {
  "kernelspec": {
   "display_name": "Python 3",
   "language": "python",
   "name": "python3"
  },
  "language_info": {
   "codemirror_mode": {
    "name": "ipython",
    "version": 3
   },
   "file_extension": ".py",
   "mimetype": "text/x-python",
   "name": "python",
   "nbconvert_exporter": "python",
   "pygments_lexer": "ipython3",
   "version": "3.6.5"
  }
 },
 "nbformat": 4,
 "nbformat_minor": 2
}
