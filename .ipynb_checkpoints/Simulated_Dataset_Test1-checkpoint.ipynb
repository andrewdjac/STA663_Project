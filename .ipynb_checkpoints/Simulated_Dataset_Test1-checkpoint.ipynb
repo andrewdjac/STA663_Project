{
 "cells": [
  {
   "cell_type": "code",
   "execution_count": 11,
   "metadata": {},
   "outputs": [],
   "source": [
    "# Load libraries\n",
    "import numpy as np\n",
    "from LDA_AandB.test_data_generator import simulate_corpus\n",
    "from LDA_AandB.lda_code import lda, group_docs\n",
    "from LDA_AandB.lda_code_opt import lda_optimized"
   ]
  },
  {
   "cell_type": "markdown",
   "metadata": {},
   "source": [
    "In the LDA framework, documents are assumed to be generated under the following stochastic process:\n",
    "\n",
    "For each document $m$, sample topic distribution $ \\theta_m \\sim Dirichlet(\\alpha)$\n",
    "\n",
    "For each topic $k$, sample word distribution $ \\phi_k \\sim Dirichlet(\\beta)$\n",
    "\n",
    "For each word $n$ in each document,\n",
    "\n",
    "1) Sample topic $z_n \\sim Cat(\\theta_m)$\n",
    "\n",
    "2) Sample word $w_n \\sim Cat(\\phi_{z_n})$"
   ]
  },
  {
   "cell_type": "markdown",
   "metadata": {},
   "source": [
    "To assess the correctness of our LDA algorithm, we simulate data under this stochastic process. We then train this data on our algorithm and compare the parameter estimates to the true parameters.\n",
    "\n",
    "We simulate a corpus of 10 documents containing 100 unique \"words\". Documents in the corpus are composed of 2 different topics and contain between 150 and 200 words."
   ]
  },
  {
   "cell_type": "code",
   "execution_count": 2,
   "metadata": {},
   "outputs": [],
   "source": [
    "# Set seed\n",
    "np.random.seed(101)"
   ]
  },
  {
   "cell_type": "code",
   "execution_count": 3,
   "metadata": {},
   "outputs": [],
   "source": [
    "# Set corpus parameters\n",
    "V = 100\n",
    "N_min = 150\n",
    "N_max = 200\n",
    "K = 2\n",
    "M = 10"
   ]
  },
  {
   "cell_type": "code",
   "execution_count": 4,
   "metadata": {},
   "outputs": [],
   "source": [
    "# Set true parameters\n",
    "alpha_true = np.random.randint(1, 15, K)\n",
    "beta_true = np.random.randint(1, 10, V)"
   ]
  },
  {
   "cell_type": "code",
   "execution_count": 5,
   "metadata": {},
   "outputs": [
    {
     "name": "stdout",
     "output_type": "stream",
     "text": [
      "alpha: [12  2]\n",
      "beta: [7 8 9 5 9 6 1 6 9 2 4 9 4 4 3 9 4 8 1 8 9 5 4 4 8 5 9 8 7 5 3 8 8 8 1 5 2\n",
      " 9 4 2 9 5 4 3 4 4 8 5 9 7 4 8 7 6 7 3 3 2 4 4 4 5 6 6 9 4 7 9 8 6 8 6 5 5\n",
      " 8 4 3 4 3 4 6 7 7 6 6 2 8 5 8 5 6 2 7 3 7 4 9 2 8 5]\n"
     ]
    }
   ],
   "source": [
    "print(\"alpha:\", alpha_true)\n",
    "print(\"beta:\", beta_true)"
   ]
  },
  {
   "cell_type": "code",
   "execution_count": 6,
   "metadata": {},
   "outputs": [],
   "source": [
    "# Generate simulated dataset\n",
    "bow, theta_true, phi_true = simulate_corpus(alpha_true, beta_true, M, N_min, N_max)"
   ]
  },
  {
   "cell_type": "code",
   "execution_count": 7,
   "metadata": {},
   "outputs": [
    {
     "ename": "NameError",
     "evalue": "name 'lda_optimized' is not defined",
     "output_type": "error",
     "traceback": [
      "\u001b[0;31m\u001b[0m",
      "\u001b[0;31mNameError\u001b[0mTraceback (most recent call last)",
      "\u001b[0;32m<ipython-input-7-56a271366ac3>\u001b[0m in \u001b[0;36m<module>\u001b[0;34m()\u001b[0m\n\u001b[1;32m      1\u001b[0m \u001b[0;31m# Train data on LDA implementation\u001b[0m\u001b[0;34m\u001b[0m\u001b[0;34m\u001b[0m\u001b[0m\n\u001b[0;32m----> 2\u001b[0;31m \u001b[0mtheta\u001b[0m\u001b[0;34m,\u001b[0m \u001b[0mphi\u001b[0m \u001b[0;34m=\u001b[0m \u001b[0mlda_optimized\u001b[0m\u001b[0;34m(\u001b[0m\u001b[0mbow\u001b[0m\u001b[0;34m,\u001b[0m \u001b[0mK\u001b[0m\u001b[0;34m,\u001b[0m \u001b[0malpha_true\u001b[0m\u001b[0;34m,\u001b[0m \u001b[0mbeta_true\u001b[0m\u001b[0;34m,\u001b[0m \u001b[0;36m1000\u001b[0m\u001b[0;34m)\u001b[0m\u001b[0;34m\u001b[0m\u001b[0m\n\u001b[0m",
      "\u001b[0;31mNameError\u001b[0m: name 'lda_optimized' is not defined"
     ]
    }
   ],
   "source": [
    "# Train data on LDA implementation\n",
    "from \n",
    "theta, phi = lda_optimized(bow, K, alpha_true, beta_true, 1000)"
   ]
  },
  {
   "cell_type": "code",
   "execution_count": 8,
   "metadata": {},
   "outputs": [
    {
     "ename": "NameError",
     "evalue": "name 'theta' is not defined",
     "output_type": "error",
     "traceback": [
      "\u001b[0;31m\u001b[0m",
      "\u001b[0;31mNameError\u001b[0mTraceback (most recent call last)",
      "\u001b[0;32m<ipython-input-8-dde607ddc995>\u001b[0m in \u001b[0;36m<module>\u001b[0;34m()\u001b[0m\n\u001b[0;32m----> 1\u001b[0;31m \u001b[0mtheta\u001b[0m\u001b[0;34m\u001b[0m\u001b[0m\n\u001b[0m",
      "\u001b[0;31mNameError\u001b[0m: name 'theta' is not defined"
     ]
    }
   ],
   "source": [
    "theta"
   ]
  },
  {
   "cell_type": "code",
   "execution_count": 9,
   "metadata": {},
   "outputs": [
    {
     "data": {
      "text/plain": [
       "array([[0.78265292, 0.21734708],\n",
       "       [0.94563303, 0.05436697],\n",
       "       [0.79502595, 0.20497405],\n",
       "       [0.95955196, 0.04044804],\n",
       "       [0.9598253 , 0.0401747 ],\n",
       "       [0.80936626, 0.19063374],\n",
       "       [0.93771192, 0.06228808],\n",
       "       [0.85612763, 0.14387237],\n",
       "       [0.89547549, 0.10452451],\n",
       "       [0.92376433, 0.07623567]])"
      ]
     },
     "execution_count": 9,
     "metadata": {},
     "output_type": "execute_result"
    }
   ],
   "source": [
    "theta_true"
   ]
  },
  {
   "cell_type": "code",
   "execution_count": 10,
   "metadata": {},
   "outputs": [
    {
     "ename": "NameError",
     "evalue": "name 'theta' is not defined",
     "output_type": "error",
     "traceback": [
      "\u001b[0;31m\u001b[0m",
      "\u001b[0;31mNameError\u001b[0mTraceback (most recent call last)",
      "\u001b[0;32m<ipython-input-10-3c452bfaa8b7>\u001b[0m in \u001b[0;36m<module>\u001b[0;34m()\u001b[0m\n\u001b[0;32m----> 1\u001b[0;31m \u001b[0mgroup_docs\u001b[0m\u001b[0;34m(\u001b[0m\u001b[0mtheta\u001b[0m\u001b[0;34m,\u001b[0m \u001b[0mK\u001b[0m\u001b[0;34m)\u001b[0m\u001b[0;34m\u001b[0m\u001b[0m\n\u001b[0m",
      "\u001b[0;31mNameError\u001b[0m: name 'theta' is not defined"
     ]
    }
   ],
   "source": [
    "group_docs(theta, K)"
   ]
  },
  {
   "cell_type": "code",
   "execution_count": 132,
   "metadata": {},
   "outputs": [
    {
     "name": "stdout",
     "output_type": "stream",
     "text": [
      "Documents labeled in group 1 : [ 0  1  2  3  4  5  6  7  8  9 10 11 12 13 14 15 16 17 18 19 20 21 22 23\n",
      " 24 25 26 27 28 29 30 31 32 33 34 35 36 37 38 39 40 41 42 43 44 45 46 47\n",
      " 48 49 50 51 52 53 54 55 56 57 58 59 60 61 62 63 64 65 66 67 68 69 70 71\n",
      " 72 73 74 75 76 77 78 79 80 81 82 83 84 85 86 87 88 89 90 91 92 93 94 95\n",
      " 96 97 98 99]\n",
      "Documents labeled in group 2 : []\n"
     ]
    }
   ],
   "source": [
    "group_docs(theta_true, K)"
   ]
  },
  {
   "cell_type": "code",
   "execution_count": 133,
   "metadata": {},
   "outputs": [
    {
     "data": {
      "text/plain": [
       "0.16912950840187382"
      ]
     },
     "execution_count": 133,
     "metadata": {},
     "output_type": "execute_result"
    }
   ],
   "source": [
    "np.mean((theta - theta_true)**2)"
   ]
  },
  {
   "cell_type": "code",
   "execution_count": 134,
   "metadata": {},
   "outputs": [
    {
     "data": {
      "text/plain": [
       "0.3716375518415733"
      ]
     },
     "execution_count": 134,
     "metadata": {},
     "output_type": "execute_result"
    }
   ],
   "source": [
    "np.mean(abs(theta - theta_true))"
   ]
  },
  {
   "cell_type": "code",
   "execution_count": 135,
   "metadata": {},
   "outputs": [
    {
     "data": {
      "text/plain": [
       "array([0, 1, 0, 0, 1, 1, 1, 0, 0, 1, 1, 1, 1, 0, 0, 0, 0, 0, 0, 0, 1, 0,\n",
       "       1, 1, 0, 1, 1, 1, 1, 0, 0, 0, 0, 1, 0, 1, 0, 1, 1, 0, 1, 1, 0, 1,\n",
       "       0, 1, 1, 1, 0, 1, 1, 1, 0, 1, 1, 0, 1, 0, 0, 0, 0, 0, 0, 1, 1, 1,\n",
       "       1, 1, 1, 0, 1, 1, 1, 1, 0, 0, 1, 1, 0, 1, 0, 1, 0, 1, 0, 1, 0, 1,\n",
       "       0, 0, 0, 0, 1, 1, 1, 0, 1, 1, 0, 1])"
      ]
     },
     "execution_count": 135,
     "metadata": {},
     "output_type": "execute_result"
    }
   ],
   "source": [
    "np.argmax(theta, axis = 1)"
   ]
  },
  {
   "cell_type": "code",
   "execution_count": 136,
   "metadata": {},
   "outputs": [
    {
     "data": {
      "text/plain": [
       "array([0, 0, 0, 0, 0, 0, 0, 0, 0, 0, 0, 0, 0, 0, 0, 0, 0, 0, 0, 0, 0, 0,\n",
       "       0, 0, 0, 0, 0, 0, 0, 0, 0, 0, 0, 0, 0, 0, 0, 0, 0, 0, 0, 0, 0, 0,\n",
       "       0, 0, 0, 0, 0, 0, 0, 0, 0, 0, 0, 0, 0, 0, 0, 0, 0, 0, 0, 0, 0, 0,\n",
       "       0, 0, 0, 0, 0, 0, 0, 0, 0, 0, 0, 0, 0, 0, 0, 0, 0, 0, 0, 0, 0, 0,\n",
       "       0, 0, 0, 0, 0, 0, 0, 0, 0, 0, 0, 0])"
      ]
     },
     "execution_count": 136,
     "metadata": {},
     "output_type": "execute_result"
    }
   ],
   "source": [
    "np.argmax(theta_true, axis = 1)"
   ]
  },
  {
   "cell_type": "code",
   "execution_count": 137,
   "metadata": {},
   "outputs": [
    {
     "data": {
      "text/plain": [
       "0.46"
      ]
     },
     "execution_count": 137,
     "metadata": {},
     "output_type": "execute_result"
    }
   ],
   "source": [
    "np.mean(np.argmax(theta, axis = 1) == np.argmax(theta_true, axis = 1))"
   ]
  },
  {
   "cell_type": "markdown",
   "metadata": {},
   "source": [
    "The accuracy of our LDA depends on the choice of the hyperparameters $\\alpha$ and $\\beta$. The closer these hyperparameters are to the true values of the dataset, the better the algorithm's estimates of the topic and word distributions. \n",
    "\n",
    "When the hyperparameters $\\alpha$ and $\\beta$ are chosen to be the true values, our LDA algorithm estimates the true topic and word distributions very well:"
   ]
  },
  {
   "cell_type": "code",
   "execution_count": null,
   "metadata": {},
   "outputs": [],
   "source": [
    "# Train data on LDA implementation\n",
    "theta, phi = lda(bow, K, 1, 1, 10000)"
   ]
  },
  {
   "cell_type": "code",
   "execution_count": null,
   "metadata": {},
   "outputs": [],
   "source": [
    "theta"
   ]
  },
  {
   "cell_type": "code",
   "execution_count": null,
   "metadata": {},
   "outputs": [],
   "source": [
    "theta_true"
   ]
  },
  {
   "cell_type": "markdown",
   "metadata": {},
   "source": [
    "However, in real-world scenarios we don't know what the true values of $\\alpha$ and $\\beta$ are. In the case where the chosen hyperparameters are not the true values from the data, our LDA algorithm's estimates are less accurate."
   ]
  },
  {
   "cell_type": "code",
   "execution_count": 12,
   "metadata": {},
   "outputs": [],
   "source": [
    "# Load libraries\n",
    "from LDA_AandB.lda_code_opt import lda_optimized"
   ]
  },
  {
   "cell_type": "code",
   "execution_count": 13,
   "metadata": {},
   "outputs": [],
   "source": [
    "theta, phi = lda_optimized(bow, 2)"
   ]
  },
  {
   "cell_type": "code",
   "execution_count": 14,
   "metadata": {},
   "outputs": [
    {
     "data": {
      "text/plain": [
       "array([[0.88383838, 0.11616162],\n",
       "       [0.91414141, 0.08585859],\n",
       "       [0.98484848, 0.01515152],\n",
       "       [0.99494949, 0.00505051],\n",
       "       [0.96969697, 0.03030303],\n",
       "       [0.88383838, 0.11616162],\n",
       "       [0.98989899, 0.01010101],\n",
       "       [0.92929293, 0.07070707],\n",
       "       [0.97979798, 0.02020202],\n",
       "       [0.99494949, 0.00505051]])"
      ]
     },
     "execution_count": 14,
     "metadata": {},
     "output_type": "execute_result"
    }
   ],
   "source": [
    "theta"
   ]
  },
  {
   "cell_type": "code",
   "execution_count": 15,
   "metadata": {},
   "outputs": [
    {
     "data": {
      "text/plain": [
       "array([[0.01197263, 0.02280502, 0.01767389, 0.01254276, 0.01482326,\n",
       "        0.01083238, 0.00114025, 0.01311288, 0.01824401, 0.00570125,\n",
       "        0.00285063, 0.01311288, 0.00741163, 0.00171038, 0.0022805 ,\n",
       "        0.02565564, 0.00342075, 0.01539339, 0.00057013, 0.01311288,\n",
       "        0.02166477, 0.00627138, 0.01140251, 0.00798176, 0.01026226,\n",
       "        0.01083238, 0.01140251, 0.01425314, 0.01368301, 0.01083238,\n",
       "        0.00798176, 0.00741163, 0.00855188, 0.01425314, 0.004561  ,\n",
       "        0.00855188, 0.00114025, 0.01482326, 0.00798176, 0.0022805 ,\n",
       "        0.02109464, 0.00912201, 0.00627138, 0.004561  , 0.004561  ,\n",
       "        0.00741163, 0.00855188, 0.00684151, 0.01539339, 0.01368301,\n",
       "        0.01311288, 0.01824401, 0.00798176, 0.00627138, 0.01824401,\n",
       "        0.00342075, 0.01197263, 0.00342075, 0.00627138, 0.00570125,\n",
       "        0.004561  , 0.00285063, 0.00513113, 0.01425314, 0.01596351,\n",
       "        0.00285063, 0.01368301, 0.02109464, 0.00969213, 0.01083238,\n",
       "        0.00855188, 0.01026226, 0.00855188, 0.01197263, 0.01596351,\n",
       "        0.01026226, 0.00513113, 0.00855188, 0.004561  , 0.00855188,\n",
       "        0.01425314, 0.01254276, 0.01710376, 0.01197263, 0.00342075,\n",
       "        0.004561  , 0.00855188, 0.00570125, 0.01995439, 0.004561  ,\n",
       "        0.00627138, 0.00399088, 0.00741163, 0.004561  , 0.01653364,\n",
       "        0.01425314, 0.02850627, 0.00114025, 0.01197263, 0.00684151],\n",
       "       [0.01630435, 0.00543478, 0.01086957, 0.01630435, 0.01086957,\n",
       "        0.00543478, 0.00543478, 0.00543478, 0.00543478, 0.02717391,\n",
       "        0.01630435, 0.00543478, 0.00543478, 0.01630435, 0.01086957,\n",
       "        0.00543478, 0.00543478, 0.01086957, 0.01086957, 0.01630435,\n",
       "        0.01086957, 0.01086957, 0.01086957, 0.01630435, 0.01086957,\n",
       "        0.01086957, 0.01630435, 0.01086957, 0.01086957, 0.00543478,\n",
       "        0.00543478, 0.00543478, 0.01630435, 0.01086957, 0.00543478,\n",
       "        0.01630435, 0.00543478, 0.00543478, 0.00543478, 0.01086957,\n",
       "        0.00543478, 0.00543478, 0.00543478, 0.00543478, 0.01086957,\n",
       "        0.00543478, 0.01086957, 0.00543478, 0.00543478, 0.00543478,\n",
       "        0.00543478, 0.01086957, 0.00543478, 0.00543478, 0.00543478,\n",
       "        0.00543478, 0.00543478, 0.00543478, 0.00543478, 0.00543478,\n",
       "        0.01086957, 0.01630435, 0.00543478, 0.00543478, 0.01086957,\n",
       "        0.02717391, 0.01630435, 0.00543478, 0.02173913, 0.01630435,\n",
       "        0.02173913, 0.01630435, 0.01086957, 0.01630435, 0.01086957,\n",
       "        0.00543478, 0.00543478, 0.01630435, 0.02173913, 0.00543478,\n",
       "        0.00543478, 0.01086957, 0.01630435, 0.00543478, 0.00543478,\n",
       "        0.00543478, 0.00543478, 0.00543478, 0.00543478, 0.02173913,\n",
       "        0.01086957, 0.00543478, 0.00543478, 0.01630435, 0.00543478,\n",
       "        0.01630435, 0.00543478, 0.00543478, 0.01086957, 0.02717391]])"
      ]
     },
     "execution_count": 15,
     "metadata": {},
     "output_type": "execute_result"
    }
   ],
   "source": [
    "phi"
   ]
  },
  {
   "cell_type": "code",
   "execution_count": 16,
   "metadata": {
    "scrolled": true
   },
   "outputs": [
    {
     "data": {
      "text/plain": [
       "0.007441361120289558"
      ]
     },
     "execution_count": 16,
     "metadata": {},
     "output_type": "execute_result"
    }
   ],
   "source": [
    "np.mean((theta - theta_true)**2)"
   ]
  },
  {
   "cell_type": "code",
   "execution_count": 20,
   "metadata": {},
   "outputs": [
    {
     "data": {
      "text/plain": [
       "1.0"
      ]
     },
     "execution_count": 20,
     "metadata": {},
     "output_type": "execute_result"
    }
   ],
   "source": [
    "np.mean(np.argmax(theta, axis = 1) == np.argmax(theta_true, axis = 1)) # Complete agreement"
   ]
  },
  {
   "cell_type": "code",
   "execution_count": 17,
   "metadata": {},
   "outputs": [],
   "source": [
    "theta, phi = lda_optimized(bow, 2)"
   ]
  },
  {
   "cell_type": "code",
   "execution_count": 18,
   "metadata": {},
   "outputs": [
    {
     "data": {
      "text/plain": [
       "array([[0.92929293, 0.07070707],\n",
       "       [0.79292929, 0.20707071],\n",
       "       [0.91414141, 0.08585859],\n",
       "       [0.99494949, 0.00505051],\n",
       "       [0.97979798, 0.02020202],\n",
       "       [0.86363636, 0.13636364],\n",
       "       [0.97474747, 0.02525253],\n",
       "       [0.83838384, 0.16161616],\n",
       "       [0.97474747, 0.02525253],\n",
       "       [0.98484848, 0.01515152]])"
      ]
     },
     "execution_count": 18,
     "metadata": {},
     "output_type": "execute_result"
    }
   ],
   "source": [
    "theta"
   ]
  },
  {
   "cell_type": "code",
   "execution_count": 19,
   "metadata": {},
   "outputs": [
    {
     "data": {
      "text/plain": [
       "array([[0.96969697, 0.03030303],\n",
       "       [0.94444444, 0.05555556],\n",
       "       [0.85858586, 0.14141414],\n",
       "       [0.98989899, 0.01010101],\n",
       "       [0.96464646, 0.03535354],\n",
       "       [0.86363636, 0.13636364],\n",
       "       [0.93939394, 0.06060606],\n",
       "       [0.84343434, 0.15656566],\n",
       "       [0.99494949, 0.00505051],\n",
       "       [0.98989899, 0.01010101]])"
      ]
     },
     "execution_count": 19,
     "metadata": {},
     "output_type": "execute_result"
    }
   ],
   "source": [
    "theta, phi = lda_optimized(bow, 2)\n",
    "\n",
    "theta"
   ]
  },
  {
   "cell_type": "code",
   "execution_count": null,
   "metadata": {},
   "outputs": [],
   "source": []
  }
 ],
 "metadata": {
  "kernelspec": {
   "display_name": "Python 3",
   "language": "python",
   "name": "python3"
  },
  "language_info": {
   "codemirror_mode": {
    "name": "ipython",
    "version": 3
   },
   "file_extension": ".py",
   "mimetype": "text/x-python",
   "name": "python",
   "nbconvert_exporter": "python",
   "pygments_lexer": "ipython3",
   "version": "3.6.5"
  }
 },
 "nbformat": 4,
 "nbformat_minor": 2
}
