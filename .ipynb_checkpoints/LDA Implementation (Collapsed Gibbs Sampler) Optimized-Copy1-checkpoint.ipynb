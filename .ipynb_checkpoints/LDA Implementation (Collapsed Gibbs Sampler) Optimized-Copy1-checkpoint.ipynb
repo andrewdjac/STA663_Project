{
 "cells": [
  {
   "cell_type": "code",
   "execution_count": 51,
   "metadata": {
    "collapsed": true
   },
   "outputs": [],
   "source": [
    "# Load libraries\n",
    "import numpy as np"
   ]
  },
  {
   "cell_type": "code",
   "execution_count": 52,
   "metadata": {
    "collapsed": true
   },
   "outputs": [],
   "source": [
    "from numba import jit\n",
    "from numba import int32, int64, float32, float64\n",
    "import numba"
   ]
  },
  {
   "cell_type": "code",
   "execution_count": 53,
   "metadata": {
    "collapsed": false
   },
   "outputs": [],
   "source": [
    "import time\n",
    "\n",
    "def timer(f, *args, **kwargs):\n",
    "    start = time.clock()\n",
    "    ans = f(*args, **kwargs)\n",
    "    return ans, time.clock() - start\n",
    "\n",
    "def report(fs, *args, **kwargs):\n",
    "    ans, t = timer(fs[0], *args, **kwargs)\n",
    "    for f in fs[1:]:\n",
    "        ans_, t_ = timer(f, *args, **kwargs)\n",
    "        print('%s: %.1f' % (f.__name__, t/t_))"
   ]
  },
  {
   "cell_type": "code",
   "execution_count": 54,
   "metadata": {
    "collapsed": true
   },
   "outputs": [],
   "source": [
    "# Set seed\n",
    "np.random.seed(10)"
   ]
  },
  {
   "cell_type": "code",
   "execution_count": 55,
   "metadata": {
    "collapsed": true
   },
   "outputs": [],
   "source": [
    "# Doc params\n",
    "V = 50\n",
    "N = 300\n",
    "K = 3\n",
    "M = 2"
   ]
  },
  {
   "cell_type": "code",
   "execution_count": 56,
   "metadata": {
    "collapsed": true
   },
   "outputs": [],
   "source": [
    "# Set true params\n",
    "alpha_true = np.array([10, 1, 2])\n",
    "beta_true = np.random.randint(1, 10, V)"
   ]
  },
  {
   "cell_type": "code",
   "execution_count": null,
   "metadata": {
    "collapsed": false
   },
   "outputs": [],
   "source": []
  },
  {
   "cell_type": "code",
   "execution_count": 57,
   "metadata": {
    "collapsed": true
   },
   "outputs": [],
   "source": [
    "# Generate data\n",
    "phi_true = np.zeros((K, V))\n",
    "for k in range(K):\n",
    "    phi_true[k, :] = np.random.dirichlet(beta_true)"
   ]
  },
  {
   "cell_type": "code",
   "execution_count": 58,
   "metadata": {
    "collapsed": true
   },
   "outputs": [],
   "source": [
    "theta_true = np.zeros((M, K))\n",
    "for m in range(M):\n",
    "    theta_true[m,:] = np.random.dirichlet(alpha_true)"
   ]
  },
  {
   "cell_type": "code",
   "execution_count": 59,
   "metadata": {
    "collapsed": true
   },
   "outputs": [],
   "source": [
    "doc_lens = np.random.randint(100, N, M)\n",
    "z_true = {}\n",
    "w = {}\n",
    "for m in range(M):\n",
    "    z_true[m] = []\n",
    "    w[m] = []\n",
    "    for n in range(doc_lens[m]):\n",
    "        z_true[m].extend(np.nonzero(np.random.multinomial(1, theta_true[m,:]))[0])\n",
    "        w[m].extend(np.nonzero(np.random.multinomial(1, phi_true[z_true[m][n], :]))[0])"
   ]
  },
  {
   "cell_type": "code",
   "execution_count": 60,
   "metadata": {
    "collapsed": false
   },
   "outputs": [
    {
     "data": {
      "text/plain": [
       "2"
      ]
     },
     "execution_count": 60,
     "metadata": {},
     "output_type": "execute_result"
    }
   ],
   "source": [
    "#z_true = np.zeros((M, N), dtype = \"int\")\n",
    "#w = np.zeros((M, N), dtype = \"int\")\n",
    "#for m in range(M):\n",
    "#    for n in range(N):\n",
    "#        z_true[m, n] = np.nonzero(np.random.multinomial(1, theta_true[m,:]))[0]\n",
    "#        w[m, n] = np.nonzero(np.random.multinomial(1, phi_true[z_true[m, n], :]))[0]\n",
    "len(w)"
   ]
  },
  {
   "cell_type": "code",
   "execution_count": 61,
   "metadata": {
    "collapsed": true
   },
   "outputs": [],
   "source": [
    "# Set initial z randomly\n",
    "z = {}\n",
    "for m in range(M):\n",
    "    z[m] = []\n",
    "    for n in range(doc_lens[m]):\n",
    "        z[m].extend(np.nonzero(np.random.multinomial(1, np.ones(K)/K))[0])"
   ]
  },
  {
   "cell_type": "code",
   "execution_count": 88,
   "metadata": {
    "collapsed": true
   },
   "outputs": [],
   "source": [
    "# Create count matrices\n",
    "A = np.zeros((M, K))\n",
    "for m in range(M):\n",
    "    for k in range(K):\n",
    "        A[m, k] = sum(np.array(z[m]) == k)"
   ]
  },
  {
   "cell_type": "code",
   "execution_count": 89,
   "metadata": {
    "collapsed": true
   },
   "outputs": [],
   "source": [
    "B = np.zeros((K, V))\n",
    "for m in range(M):\n",
    "    for n in range(doc_lens[m]):\n",
    "        B[z[m][n], w[m][n]] += 1"
   ]
  },
  {
   "cell_type": "code",
   "execution_count": 90,
   "metadata": {
    "collapsed": true
   },
   "outputs": [],
   "source": [
    "C = np.zeros(K)\n",
    "for m in range(M):\n",
    "    for n in range(doc_lens[m]):\n",
    "        C[z[m][n]] += 1"
   ]
  },
  {
   "cell_type": "code",
   "execution_count": 91,
   "metadata": {
    "collapsed": false
   },
   "outputs": [],
   "source": [
    "# Turning Z into a matrix\n",
    "MaxLen = max([len(z[i]) for i in z.keys()])\n",
    "\n",
    "Z = np.zeros((len(z.keys()), MaxLen), dtype = int)\n",
    "\n",
    "for i in range(len(z.keys())):\n",
    "    Z[i, 0:len(z[i])] = z[i]\n",
    "Z_prev = Z"
   ]
  },
  {
   "cell_type": "code",
   "execution_count": 92,
   "metadata": {
    "collapsed": false
   },
   "outputs": [],
   "source": [
    "# Turning W into a matrix\n",
    "MaxLen = max([len(w[i]) for i in w.keys()])\n",
    "\n",
    "W = np.zeros((len(w.keys()), MaxLen), dtype = int)\n",
    "\n",
    "for i in range(len(w.keys())):\n",
    "     W[i, 0:len(w[i])] = w[i]"
   ]
  },
  {
   "cell_type": "code",
   "execution_count": 67,
   "metadata": {
    "collapsed": false
   },
   "outputs": [],
   "source": [
    "# set hyperparameters alpha and beta\n",
    "alpha = np.ones(K)\n",
    "beta = np.ones(V)\n",
    "#alpha = alpha_true\n",
    "#beta = beta_true"
   ]
  },
  {
   "cell_type": "markdown",
   "metadata": {},
   "source": [
    "### Base Comparison\n",
    "\n",
    "As a benchmark, we begin with the timing for a single iteration of the Gibbs sampler with no optimization"
   ]
  },
  {
   "cell_type": "code",
   "execution_count": 69,
   "metadata": {
    "collapsed": false
   },
   "outputs": [],
   "source": [
    "# start gibbs sampler\n",
    "def Gibbs(M, doc_lens, Z, W, K, A, B, C, alpha, beta):\n",
    "    num_iter = 1\n",
    "    p = np.zeros(K)\n",
    "    for i in range(num_iter):\n",
    "        for m in range(M):\n",
    "            for n in range(doc_lens[m]):\n",
    "                A[m, int(Z[m,n])] -= 1  # Decrement N1\n",
    "                B[int(Z[m,n]), int(W[m,n])] -= 1 # Decrement N2\n",
    "                C[int(Z[m,n])] -= 1 # Decrement N3\n",
    "                p = np.zeros(K)\n",
    "                for k in range(K):\n",
    "                    p[k] = (A[m, k] + alpha[k])*((B[k, int(W[m,n])] + beta[int(W[m,n])])/(C[k] + sum(beta)))\n",
    "                p = p/sum(p) # This is actually doing k divisions... might be a modest speed up but we can parallelize easily with numba\n",
    "                Z[m,n] = int(np.nonzero(np.random.multinomial(1, p))[0][0])\n",
    "                A[m, int(Z[m,n])] += 1 # Increment N1\n",
    "                B[int(Z[m,n]), int(W[m,n])] += 1 # Increment N2\n",
    "                C[int(Z[m,n])] += 1 # Increment N3\n",
    "    return A, B, C\n"
   ]
  },
  {
   "cell_type": "code",
   "execution_count": 70,
   "metadata": {
    "collapsed": false
   },
   "outputs": [
    {
     "name": "stdout",
     "output_type": "stream",
     "text": [
      "16.6 ms ± 520 µs per loop (mean ± std. dev. of 30 runs, 30 loops each)\n"
     ]
    }
   ],
   "source": [
    "%timeit -r30 -n30 Gibbs(M, doc_lens, Z, W, K, A, B, C, alpha, beta)"
   ]
  },
  {
   "cell_type": "code",
   "execution_count": null,
   "metadata": {
    "collapsed": true
   },
   "outputs": [],
   "source": []
  },
  {
   "cell_type": "markdown",
   "metadata": {},
   "source": [
    "## JIT optimizing the whole loop"
   ]
  },
  {
   "cell_type": "markdown",
   "metadata": {},
   "source": [
    "### One loop at a time... Start with Loop 4"
   ]
  },
  {
   "cell_type": "code",
   "execution_count": 71,
   "metadata": {
    "collapsed": false
   },
   "outputs": [],
   "source": [
    "@jit(nopython=True, cache = False)\n",
    "def Loop4(K, A, B, C, WordTopic, TopicWord, alpha, beta):\n",
    "    p = np.zeros(K)\n",
    "    for k in range(K):\n",
    "        p[k] = (A[m, k] + alpha[k])*((B[k, TopicWord] + beta[TopicWord])/(C[k] + (beta[1]*len(beta))))\n",
    "    return p"
   ]
  },
  {
   "cell_type": "code",
   "execution_count": 72,
   "metadata": {
    "collapsed": false,
    "scrolled": true
   },
   "outputs": [
    {
     "name": "stdout",
     "output_type": "stream",
     "text": [
      "The slowest run took 2247.76 times longer than the fastest. This could mean that an intermediate result is being cached.\n",
      "169 µs ± 899 µs per loop (mean ± std. dev. of 30 runs, 30 loops each)\n"
     ]
    }
   ],
   "source": [
    "### Testing \n",
    "%timeit -r30 -n30 Loop4(K, A, B, C, Z[m,n], W[m,n], alpha, beta)"
   ]
  },
  {
   "cell_type": "code",
   "execution_count": 73,
   "metadata": {
    "collapsed": false,
    "scrolled": true
   },
   "outputs": [
    {
     "data": {
      "text/plain": [
       "array([ 2.42176871,  0.14754098,  1.85294118])"
      ]
     },
     "execution_count": 73,
     "metadata": {},
     "output_type": "execute_result"
    }
   ],
   "source": [
    "Loop4(K, A, B, C, Z[m,n], W[m,n], alpha, beta)"
   ]
  },
  {
   "cell_type": "code",
   "execution_count": 74,
   "metadata": {
    "collapsed": true
   },
   "outputs": [],
   "source": [
    "# start gibbs sampler\n",
    "def Gibbs_faster(M, doc_lens, Z, W, K, A, B, C, alpha, beta):\n",
    "    p = np.zeros(K)\n",
    "    num_iter = 1\n",
    "    for i in range(num_iter):\n",
    "        for m in range(M):\n",
    "            for n in range(doc_lens[m]):\n",
    "                A[m, int(Z[m,n])] -= 1  # Decrement N1\n",
    "                B[int(Z[m,n]), int(W[m,n])] -= 1 # Decrement N2\n",
    "                C[int(Z[m,n])] -= 1 # Decrement N3\n",
    "                p = Loop4(K, A, B, C, Z[m,n], W[m,n], alpha, beta)\n",
    "                p = p/sum(p) \n",
    "                Z[m,n] = int(np.nonzero(np.random.multinomial(1, p))[0][0])\n",
    "                A[m, int(Z[m,n])] += 1 # Increment N1\n",
    "                B[int(Z[m,n]), int(W[m,n])] += 1 # Increment N2\n",
    "                C[int(Z[m,n])] += 1 # Increment N3\n",
    "    return A\n"
   ]
  },
  {
   "cell_type": "code",
   "execution_count": 75,
   "metadata": {
    "collapsed": false
   },
   "outputs": [
    {
     "name": "stdout",
     "output_type": "stream",
     "text": [
      "6.37 ms ± 484 µs per loop (mean ± std. dev. of 30 runs, 30 loops each)\n"
     ]
    }
   ],
   "source": [
    "%timeit -r30 -n30 Gibbs_faster(M, doc_lens, Z, W, K, A, B, C, alpha, beta)"
   ]
  },
  {
   "cell_type": "markdown",
   "metadata": {},
   "source": [
    "### Loop 3"
   ]
  },
  {
   "cell_type": "code",
   "execution_count": 76,
   "metadata": {
    "collapsed": false
   },
   "outputs": [],
   "source": [
    "@jit(nopython=True, cache = True)\n",
    "def Loop3(K, A, B, C, WordTopic, TopicWord, alpha, beta):        \n",
    "    p = Loop4(K, A, B, C, WordTopic, TopicWord, alpha, beta)\n",
    "    return p"
   ]
  },
  {
   "cell_type": "code",
   "execution_count": 77,
   "metadata": {
    "collapsed": false
   },
   "outputs": [
    {
     "name": "stdout",
     "output_type": "stream",
     "text": [
      "The slowest run took 52.18 times longer than the fastest. This could mean that an intermediate result is being cached.\n",
      "6.4 µs ± 21.4 µs per loop (mean ± std. dev. of 30 runs, 30 loops each)\n"
     ]
    }
   ],
   "source": [
    "### Testing  THIS SHOULD BE THE SAME AS ABOVE!\n",
    "%timeit -r30 -n30 Loop3(K, A, B, C, Z[m,n], W[m,n], alpha, beta)"
   ]
  },
  {
   "cell_type": "code",
   "execution_count": 78,
   "metadata": {
    "collapsed": true
   },
   "outputs": [],
   "source": [
    "@jit\n",
    "def get_multinom(p):\n",
    "    \"\"\"Multinomial Helper function\"\"\"\n",
    "    p_sum = 0\n",
    "    u = np.random.uniform(0,1)\n",
    "\n",
    "    for i in range(len(p)):\n",
    "        p_sum += p[i]\n",
    "        if p_sum > u:\n",
    "            return i\n",
    "            break"
   ]
  },
  {
   "cell_type": "code",
   "execution_count": 79,
   "metadata": {
    "collapsed": false
   },
   "outputs": [],
   "source": [
    "@jit(nopython=True, cache = False)\n",
    "def Loop3(K, A, B, C, Z, W, alpha, beta, m, doc_len):\n",
    "    p = np.zeros(K)\n",
    "    for n in range(doc_len):\n",
    "        WordTopic = Z[m,n]\n",
    "        TopicWord = W[m,n]\n",
    "        A[m, WordTopic] -= 1  # Decrement N1\n",
    "        B[WordTopic, TopicWord] -= 1 # Decrement N2\n",
    "        C[WordTopic] -= 1\n",
    "\n",
    "        p = Loop4(K, A, B, C, WordTopic, TopicWord, alpha, beta)\n",
    "        p = p/(np.sum(p))\n",
    "        \n",
    "        Z[m,n] = get_multinom(p)\n",
    "        WordTopic = Z[m,n]\n",
    "        A[m, WordTopic] += 1 # Increment N1\n",
    "        B[WordTopic, TopicWord] += 1 # Increment N2\n",
    "        C[WordTopic] += 1 # Increment N3\n",
    "    return A, B, C"
   ]
  },
  {
   "cell_type": "code",
   "execution_count": 81,
   "metadata": {
    "collapsed": false
   },
   "outputs": [
    {
     "data": {
      "text/plain": [
       "array([  33.,  154.,   34.])"
      ]
     },
     "execution_count": 81,
     "metadata": {},
     "output_type": "execute_result"
    }
   ],
   "source": [
    "### Test this!!!\n",
    "for i in range(10000):\n",
    "    A, B, C = Loop3(K, A, B, C, Z, W, alpha, beta, m, doc_lens[m])\n",
    "    \n",
    "A[1,:]"
   ]
  },
  {
   "cell_type": "code",
   "execution_count": null,
   "metadata": {
    "collapsed": false
   },
   "outputs": [],
   "source": []
  },
  {
   "cell_type": "code",
   "execution_count": 82,
   "metadata": {
    "collapsed": false
   },
   "outputs": [],
   "source": [
    "### Testing Speedup\n",
    "# start gibbs sampler\n",
    "def Gibbs_even_faster(M, doc_lens, Z, W, K, A, B, C, alpha, beta):\n",
    "    p = np.zeros(K)\n",
    "    num_iter = 10000\n",
    "    for i in range(num_iter):\n",
    "        for m in range(M):\n",
    "            A, B, C = Loop3(K, A, B, C, Z, W, alpha, beta, m, doc_lens[m])\n",
    "    return A, B, C\n"
   ]
  },
  {
   "cell_type": "code",
   "execution_count": 84,
   "metadata": {
    "collapsed": false
   },
   "outputs": [],
   "source": [
    "#%timeit -r30 -n30 Gibbs_even_faster(M, doc_lens, Z, W, K, A, B, C, alpha, beta)"
   ]
  },
  {
   "cell_type": "code",
   "execution_count": 93,
   "metadata": {
    "collapsed": false
   },
   "outputs": [],
   "source": [
    "A, B, C = Gibbs_even_faster(M, doc_lens, Z, W, K, A, B, C, alpha, beta)"
   ]
  },
  {
   "cell_type": "code",
   "execution_count": 94,
   "metadata": {
    "collapsed": false
   },
   "outputs": [
    {
     "data": {
      "text/plain": [
       "array([[ 0.25,  0.55,  0.2 ],\n",
       "       [ 0.28,  0.47,  0.25]])"
      ]
     },
     "execution_count": 94,
     "metadata": {},
     "output_type": "execute_result"
    }
   ],
   "source": [
    "# Checking if we can infer the original parameters\n",
    "theta = np.zeros((M, K))\n",
    "for m in range(M):\n",
    "    for k in range(K):\n",
    "        theta[m , k] = (A[m, k] + alpha[k])/(sum(A[m,:]) + sum(alpha))\n",
    "np.round(theta, 2)"
   ]
  },
  {
   "cell_type": "code",
   "execution_count": 95,
   "metadata": {
    "collapsed": false
   },
   "outputs": [
    {
     "data": {
      "text/plain": [
       "array([[ 0.83,  0.04,  0.13],\n",
       "       [ 0.71,  0.11,  0.19]])"
      ]
     },
     "execution_count": 95,
     "metadata": {},
     "output_type": "execute_result"
    }
   ],
   "source": [
    "np.round(theta_true, 2)"
   ]
  },
  {
   "cell_type": "code",
   "execution_count": 665,
   "metadata": {
    "collapsed": false
   },
   "outputs": [
    {
     "data": {
      "text/plain": [
       "array([[ 0.01,  0.01,  0.04,  0.02,  0.02,  0.02,  0.06,  0.05,  0.03,\n",
       "         0.01,  0.  ,  0.05,  0.01,  0.02,  0.01,  0.05,  0.01,  0.01,\n",
       "         0.02,  0.  ,  0.01,  0.02,  0.01,  0.  ,  0.02,  0.  ,  0.02,\n",
       "         0.  ,  0.03,  0.03,  0.02,  0.02,  0.04,  0.01,  0.  ,  0.07,\n",
       "         0.01,  0.08,  0.  ,  0.  ,  0.  ,  0.01,  0.  ,  0.03,  0.03,\n",
       "         0.02,  0.01,  0.  ,  0.03,  0.02],\n",
       "       [ 0.04,  0.01,  0.01,  0.02,  0.03,  0.03,  0.01,  0.07,  0.  ,\n",
       "         0.02,  0.01,  0.07,  0.04,  0.01,  0.02,  0.01,  0.01,  0.01,\n",
       "         0.  ,  0.02,  0.02,  0.  ,  0.01,  0.04,  0.01,  0.  ,  0.03,\n",
       "         0.  ,  0.02,  0.01,  0.01,  0.  ,  0.12,  0.03,  0.01,  0.08,\n",
       "         0.  ,  0.02,  0.03,  0.01,  0.01,  0.01,  0.02,  0.03,  0.01,\n",
       "         0.01,  0.  ,  0.01,  0.01,  0.01],\n",
       "       [ 0.03,  0.05,  0.02,  0.01,  0.02,  0.04,  0.01,  0.03,  0.01,\n",
       "         0.03,  0.03,  0.02,  0.05,  0.02,  0.  ,  0.02,  0.03,  0.03,\n",
       "         0.03,  0.06,  0.02,  0.03,  0.01,  0.01,  0.02,  0.01,  0.04,\n",
       "         0.01,  0.02,  0.01,  0.01,  0.01,  0.01,  0.01,  0.01,  0.02,\n",
       "         0.04,  0.  ,  0.  ,  0.01,  0.04,  0.03,  0.01,  0.04,  0.01,\n",
       "         0.01,  0.01,  0.  ,  0.  ,  0.01]])"
      ]
     },
     "execution_count": 665,
     "metadata": {},
     "output_type": "execute_result"
    }
   ],
   "source": [
    "phi = np.zeros((K, V))\n",
    "for k in range(K):\n",
    "    for v in range(V):\n",
    "        phi[k , v] = (B[k, v] + beta[v])/(sum(B[k,:]) + sum(beta))\n",
    "np.round(phi, 2)"
   ]
  },
  {
   "cell_type": "code",
   "execution_count": 667,
   "metadata": {
    "collapsed": false
   },
   "outputs": [
    {
     "data": {
      "text/plain": [
       "array([[ 0.03,  0.04,  0.03,  0.01,  0.03,  0.04,  0.02,  0.04,  0.01,\n",
       "         0.02,  0.03,  0.02,  0.05,  0.02,  0.  ,  0.03,  0.03,  0.02,\n",
       "         0.02,  0.05,  0.02,  0.03,  0.01,  0.01,  0.01,  0.01,  0.04,\n",
       "         0.01,  0.02,  0.01,  0.01,  0.01,  0.02,  0.01,  0.01,  0.03,\n",
       "         0.03,  0.02,  0.  ,  0.01,  0.03,  0.03,  0.01,  0.04,  0.02,\n",
       "         0.01,  0.01,  0.  ,  0.  ,  0.02],\n",
       "       [ 0.04,  0.03,  0.01,  0.02,  0.02,  0.02,  0.02,  0.03,  0.  ,\n",
       "         0.04,  0.01,  0.02,  0.01,  0.02,  0.  ,  0.03,  0.02,  0.02,\n",
       "         0.04,  0.03,  0.04,  0.02,  0.01,  0.01,  0.03,  0.01,  0.06,\n",
       "         0.  ,  0.03,  0.03,  0.01,  0.  ,  0.01,  0.01,  0.04,  0.02,\n",
       "         0.02,  0.02,  0.02,  0.01,  0.04,  0.02,  0.02,  0.03,  0.  ,\n",
       "         0.01,  0.02,  0.  ,  0.01,  0.01],\n",
       "       [ 0.04,  0.03,  0.02,  0.03,  0.02,  0.03,  0.06,  0.02,  0.01,\n",
       "         0.03,  0.03,  0.03,  0.02,  0.01,  0.  ,  0.03,  0.03,  0.03,\n",
       "         0.02,  0.03,  0.02,  0.02,  0.  ,  0.  ,  0.03,  0.  ,  0.02,\n",
       "         0.01,  0.02,  0.03,  0.02,  0.01,  0.02,  0.  ,  0.02,  0.02,\n",
       "         0.04,  0.02,  0.  ,  0.01,  0.02,  0.03,  0.02,  0.02,  0.  ,\n",
       "         0.01,  0.01,  0.  ,  0.03,  0.02]])"
      ]
     },
     "execution_count": 667,
     "metadata": {},
     "output_type": "execute_result"
    }
   ],
   "source": [
    "np.round(phi_true,2)"
   ]
  },
  {
   "cell_type": "markdown",
   "metadata": {},
   "source": [
    "## Loop 2"
   ]
  },
  {
   "cell_type": "code",
   "execution_count": 609,
   "metadata": {
    "collapsed": false
   },
   "outputs": [],
   "source": [
    "@jit(nopython=True, cache = False)\n",
    "def Fastest_Gibbs(K, A, B, C, Z, W, alpha, beta, m, doc_lens, M, num_iter):\n",
    "    for i in range(num_iter):\n",
    "        for m in range(M):\n",
    "            A, B, C = Loop3(K, A, B, C, Z, W, alpha, beta, m, doc_lens[m])\n",
    "    return A, B, C"
   ]
  },
  {
   "cell_type": "code",
   "execution_count": 610,
   "metadata": {
    "collapsed": false,
    "scrolled": true
   },
   "outputs": [
    {
     "name": "stdout",
     "output_type": "stream",
     "text": [
      "The slowest run took 36.63 times longer than the fastest. This could mean that an intermediate result is being cached.\n",
      "714 µs ± 2.07 ms per loop (mean ± std. dev. of 30 runs, 30 loops each)\n"
     ]
    }
   ],
   "source": [
    "%timeit -r30 -n30 Fastest_Gibbs(K, A, B, C, Z, W, alpha, beta, m, doc_lens, M, 1)"
   ]
  },
  {
   "cell_type": "markdown",
   "metadata": {},
   "source": [
    "# WOW... Hope those results are legit... let's make sure we get the same answers"
   ]
  },
  {
   "cell_type": "code",
   "execution_count": 161,
   "metadata": {
    "collapsed": false
   },
   "outputs": [
    {
     "name": "stderr",
     "output_type": "stream",
     "text": [
      "Compiler crash in ExpandInplaceOperators\n",
      "\n",
      "ModuleNode.body = StatListNode(_cython_magic_9f01b05eac101de3536b16c86e765a93.pyx:2:0)\n",
      "StatListNode.stats[2] = StatListNode(_cython_magic_9f01b05eac101de3536b16c86e765a93.pyx:8:0)\n",
      "StatListNode.stats[0] = CompilerDirectivesNode(_cython_magic_9f01b05eac101de3536b16c86e765a93.pyx:8:0)\n",
      "CompilerDirectivesNode.body = StatListNode(_cython_magic_9f01b05eac101de3536b16c86e765a93.pyx:8:0)\n",
      "StatListNode.stats[0] = DefNode(_cython_magic_9f01b05eac101de3536b16c86e765a93.pyx:8:0,\n",
      "    modifiers = [...]/0,\n",
      "    name = 'Gibbs',\n",
      "    num_required_args = 10,\n",
      "    py_wrapper_required = True,\n",
      "    reqd_kw_flags_cname = '0',\n",
      "    used = True)\n",
      "DefNode.body = StatListNode(_cython_magic_9f01b05eac101de3536b16c86e765a93.pyx:11:4,\n",
      "    is_terminator = True)\n",
      "StatListNode.stats[2] = ForInStatNode(_cython_magic_9f01b05eac101de3536b16c86e765a93.pyx:14:4)\n",
      "ForInStatNode.body = StatListNode(_cython_magic_9f01b05eac101de3536b16c86e765a93.pyx:15:8)\n",
      "StatListNode.stats[0] = ForInStatNode(_cython_magic_9f01b05eac101de3536b16c86e765a93.pyx:15:8)\n",
      "ForInStatNode.body = StatListNode(_cython_magic_9f01b05eac101de3536b16c86e765a93.pyx:16:12)\n",
      "StatListNode.stats[0] = ForInStatNode(_cython_magic_9f01b05eac101de3536b16c86e765a93.pyx:16:12)\n",
      "ForInStatNode.body = StatListNode(_cython_magic_9f01b05eac101de3536b16c86e765a93.pyx:17:16)\n",
      "StatListNode.stats[4] = InPlaceAssignmentNode(_cython_magic_9f01b05eac101de3536b16c86e765a93.pyx:21:17,\n",
      "    operator = '-')\n",
      "File 'UtilNodes.py', line 146, in __init__: ResultRefNode(may_hold_none = True,\n",
      "    result_is_used = True,\n",
      "    use_managed_ref = True)\n",
      "\n",
      "Compiler crash traceback from this point on:\n",
      "  File \"/opt/conda/lib/python3.5/site-packages/Cython/Compiler/UtilNodes.py\", line 146, in __init__\n",
      "    assert self.pos is not None\n",
      "AssertionError: \n"
     ]
    }
   ],
   "source": [
    "%%cython -a\n",
    "\n",
    "import cython\n",
    "import numpy as np\n",
    "\n",
    "@cython.boundscheck(False)\n",
    "@cython.wraparound(False)\n",
    "\n",
    "def Gibbs(long[:,:] Z, long[:] doc_lens, long[:,:] W,\n",
    "          long[:,:] A, long[:,:] B, long[:,:] C, double[:] p,\n",
    "         double[:] alpha, double[:] beta, long[:] K):\n",
    "    num_iter = 30\n",
    "    M = 2\n",
    "    # Need gil for some reason: Assignment of Python object not allowed without gil\n",
    "    for i in range(num_iter):\n",
    "        for m in range(M):\n",
    "            for n in range(doc_lens[m]):\n",
    "                WordTopic = Z[m,n]\n",
    "                TopicWord = W[m,n]\n",
    "                A[m, WordTopic] -= 1  # Decrement N1\n",
    "                B[WordTopic, TopicWord] -= 1 # Decrement N2\n",
    "                C[WordTopic] -= 1 # Decrement N3\n",
    "                p = np.zeros(K)\n",
    "                for k in range(K):\n",
    "                    p[k] = (A[m, k] + alpha[k])*((B[k, WordTopic] + beta[TopicWord])/(C[k] + sum(beta)))\n",
    "                p = p/sum(p) # This is actually doing k divisions... might be a modest speed up but we can parallelize easily with numba\n",
    "                Z[m,n] = int(np.nonzero(np.random.multinomial(1, p))[0][0])\n",
    "                A[m, WordTopic] += 1 # Increment N1\n",
    "                B[WordTopic, TopicWord] += 1 # Increment N2\n",
    "                C[WordTopic] += 1 # Increment N3\n",
    "    return A, B"
   ]
  },
  {
   "cell_type": "code",
   "execution_count": 105,
   "metadata": {
    "collapsed": false
   },
   "outputs": [
    {
     "data": {
      "text/plain": [
       "3"
      ]
     },
     "execution_count": 105,
     "metadata": {},
     "output_type": "execute_result"
    }
   ],
   "source": [
    "%%cython -a\n",
    "\n",
    "import cython\n",
    "import numpy as np\n",
    "\n",
    "@cython.boundscheck(False)\n",
    "@cython.wraparound(False)\n",
    "\n",
    "def Gibbs(long[:,:] Z, long[:] doc_lens, long[:,:] W,\n",
    "          long[:,:] A, long[:,:] B, long[:,:] C, double[:] p,\n",
    "         double[:] alpha, double[:] beta, long[:] K):\n",
    "    num_iter = 30\n",
    "    M = 2\n",
    "    # Need gil for some reason: Assignment of Python object not allowed without gil\n",
    "    for i in range(num_iter): # LOOP 1\n",
    "        for m in range(M): # LOOP 2\n",
    "            for n in range(doc_lens[m]): # LOOP 3\n",
    "                WordTopic = Z[m,n]\n",
    "                TopicWord = W[m,n]\n",
    "                A[m, WordTopic] -= 1  # Decrement N1\n",
    "                B[WordTopic, TopicWord] -= 1 # Decrement N2\n",
    "                C[WordTopic] -= 1 # Decrement N3\n",
    "                p = np.zeros(K)\n",
    "                for k in range(K): # LOOP 4\n",
    "                    p[k] = (A[m, k] + alpha[k])*((B[k, WordTopic] + beta[TopicWord])/(C[k] + sum(beta)))\n",
    "                p = p/sum(p) # This is actually doing k divisions... might be a modest speed up but we can parallelize easily with numba\n",
    "                Z[m,n] = int(np.nonzero(np.random.multinomial(1, p))[0][0])\n",
    "                A[m, WordTopic] += 1 # Increment N1\n",
    "                B[WordTopic, TopicWord] += 1 # Increment N2\n",
    "                C[WordTopic] += 1 # Increment N3\n",
    "    return A, B"
   ]
  },
  {
   "cell_type": "markdown",
   "metadata": {},
   "source": [
    "### LOOP 4 optimization"
   ]
  },
  {
   "cell_type": "code",
   "execution_count": 179,
   "metadata": {
    "collapsed": false
   },
   "outputs": [],
   "source": [
    "@jit(nopython=True, cache = True)\n",
    "def Loop4(K, A, B, C, WordTopic, TopicWord, alpha, beta):\n",
    "    p = np.zeros(K)\n",
    "    for k in range(K):\n",
    "        p[k] = (A[m, k] + alpha[k])*((B[k, WordTopic] + beta[TopicWord])/(C[k] + (beta[1]*len(beta))))\n",
    "    return p"
   ]
  },
  {
   "cell_type": "code",
   "execution_count": 574,
   "metadata": {
    "collapsed": false
   },
   "outputs": [
    {
     "data": {
      "text/plain": [
       "array([24022,  2952,  3026])"
      ]
     },
     "execution_count": 574,
     "metadata": {},
     "output_type": "execute_result"
    }
   ],
   "source": [
    "x = np.repeat([.8,.1,.1], 30000).reshape(-1,3, order = \"F\")\n",
    "\n",
    "# x_vec = [int(get_multinom(x[i,:])) for i in range(x.shape[0])]\n",
    "# get_multinom(x)\n",
    "x_vec = np.apply_along_axis(get_multinom, axis = 1, arr= x)\n",
    "\n",
    "np.bincount(x_vec)\n"
   ]
  },
  {
   "cell_type": "code",
   "execution_count": 182,
   "metadata": {
    "collapsed": false
   },
   "outputs": [],
   "source": [
    "def Loop4_slow(K, A, B, C, WordTopic, TopicWord, alpha, beta):\n",
    "    p = np.zeros(K)\n",
    "    for k in range(K):\n",
    "        p[k] = (A[m, k] + alpha[k])*((B[k, WordTopic] + beta[TopicWord])/(C[k] + (beta[1]*len(beta))))\n",
    "    return p"
   ]
  },
  {
   "cell_type": "code",
   "execution_count": 249,
   "metadata": {
    "collapsed": false
   },
   "outputs": [
    {
     "ename": "TypeError",
     "evalue": "dist must be a Distribution instance",
     "output_type": "error",
     "traceback": [
      "\u001b[0;31m\u001b[0m",
      "\u001b[0;31mTypeError\u001b[0mTraceback (most recent call last)",
      "\u001b[0;32m<ipython-input-249-0e10abd49e78>\u001b[0m in \u001b[0;36m<module>\u001b[0;34m()\u001b[0m\n\u001b[0;32m----> 1\u001b[0;31m \u001b[0mget_ipython\u001b[0m\u001b[0;34m(\u001b[0m\u001b[0;34m)\u001b[0m\u001b[0;34m.\u001b[0m\u001b[0mrun_cell_magic\u001b[0m\u001b[0;34m(\u001b[0m\u001b[0;34m'cython'\u001b[0m\u001b[0;34m,\u001b[0m \u001b[0;34m'-a --compile-args=-fopenmp --link-args=-fopenmp --force'\u001b[0m\u001b[0;34m,\u001b[0m \u001b[0;34m'\\nimport cython\\nimport numpy as np\\nfrom cython.parallel import parallel, prange\\n\\n@cython.boundscheck(False)\\n@cython.wraparound(False)\\ndef Loop4_cython(K, A, B, C, WordTopic, TopicWord, alpha, beta, m, P):\\n    with cython.nogil, parallel():\\n        p = np.zeros(K)\\n        for k in prange(K):\\n            p[k] = (A[m, k] + alpha[k])*((B[k, WordTopic] + beta[TopicWord])/(C[k] + (beta[1]*len(beta))))'\u001b[0m\u001b[0;34m)\u001b[0m\u001b[0;34m\u001b[0m\u001b[0m\n\u001b[0m",
      "\u001b[0;32m/opt/conda/lib/python3.5/site-packages/IPython/core/interactiveshell.py\u001b[0m in \u001b[0;36mrun_cell_magic\u001b[0;34m(self, magic_name, line, cell)\u001b[0m\n\u001b[1;32m   2101\u001b[0m             \u001b[0mmagic_arg_s\u001b[0m \u001b[0;34m=\u001b[0m \u001b[0mself\u001b[0m\u001b[0;34m.\u001b[0m\u001b[0mvar_expand\u001b[0m\u001b[0;34m(\u001b[0m\u001b[0mline\u001b[0m\u001b[0;34m,\u001b[0m \u001b[0mstack_depth\u001b[0m\u001b[0;34m)\u001b[0m\u001b[0;34m\u001b[0m\u001b[0m\n\u001b[1;32m   2102\u001b[0m             \u001b[0;32mwith\u001b[0m \u001b[0mself\u001b[0m\u001b[0;34m.\u001b[0m\u001b[0mbuiltin_trap\u001b[0m\u001b[0;34m:\u001b[0m\u001b[0;34m\u001b[0m\u001b[0m\n\u001b[0;32m-> 2103\u001b[0;31m                 \u001b[0mresult\u001b[0m \u001b[0;34m=\u001b[0m \u001b[0mfn\u001b[0m\u001b[0;34m(\u001b[0m\u001b[0mmagic_arg_s\u001b[0m\u001b[0;34m,\u001b[0m \u001b[0mcell\u001b[0m\u001b[0;34m)\u001b[0m\u001b[0;34m\u001b[0m\u001b[0m\n\u001b[0m\u001b[1;32m   2104\u001b[0m             \u001b[0;32mreturn\u001b[0m \u001b[0mresult\u001b[0m\u001b[0;34m\u001b[0m\u001b[0m\n\u001b[1;32m   2105\u001b[0m \u001b[0;34m\u001b[0m\u001b[0m\n",
      "\u001b[0;32m<decorator-gen-127>\u001b[0m in \u001b[0;36mcython\u001b[0;34m(self, line, cell)\u001b[0m\n",
      "\u001b[0;32m/opt/conda/lib/python3.5/site-packages/IPython/core/magic.py\u001b[0m in \u001b[0;36m<lambda>\u001b[0;34m(f, *a, **k)\u001b[0m\n\u001b[1;32m    185\u001b[0m     \u001b[0;31m# but it's overkill for just that one bit of state.\u001b[0m\u001b[0;34m\u001b[0m\u001b[0;34m\u001b[0m\u001b[0m\n\u001b[1;32m    186\u001b[0m     \u001b[0;32mdef\u001b[0m \u001b[0mmagic_deco\u001b[0m\u001b[0;34m(\u001b[0m\u001b[0marg\u001b[0m\u001b[0;34m)\u001b[0m\u001b[0;34m:\u001b[0m\u001b[0;34m\u001b[0m\u001b[0m\n\u001b[0;32m--> 187\u001b[0;31m         \u001b[0mcall\u001b[0m \u001b[0;34m=\u001b[0m \u001b[0;32mlambda\u001b[0m \u001b[0mf\u001b[0m\u001b[0;34m,\u001b[0m \u001b[0;34m*\u001b[0m\u001b[0ma\u001b[0m\u001b[0;34m,\u001b[0m \u001b[0;34m**\u001b[0m\u001b[0mk\u001b[0m\u001b[0;34m:\u001b[0m \u001b[0mf\u001b[0m\u001b[0;34m(\u001b[0m\u001b[0;34m*\u001b[0m\u001b[0ma\u001b[0m\u001b[0;34m,\u001b[0m \u001b[0;34m**\u001b[0m\u001b[0mk\u001b[0m\u001b[0;34m)\u001b[0m\u001b[0;34m\u001b[0m\u001b[0m\n\u001b[0m\u001b[1;32m    188\u001b[0m \u001b[0;34m\u001b[0m\u001b[0m\n\u001b[1;32m    189\u001b[0m         \u001b[0;32mif\u001b[0m \u001b[0mcallable\u001b[0m\u001b[0;34m(\u001b[0m\u001b[0marg\u001b[0m\u001b[0;34m)\u001b[0m\u001b[0;34m:\u001b[0m\u001b[0;34m\u001b[0m\u001b[0m\n",
      "\u001b[0;32m/opt/conda/lib/python3.5/site-packages/Cython/Build/IpythonMagic.py\u001b[0m in \u001b[0;36mcython\u001b[0;34m(self, line, cell)\u001b[0m\n\u001b[1;32m    262\u001b[0m                 \u001b[0mlanguage\u001b[0m \u001b[0;34m=\u001b[0m \u001b[0;34m'c++'\u001b[0m \u001b[0;32mif\u001b[0m \u001b[0margs\u001b[0m\u001b[0;34m.\u001b[0m\u001b[0mcplus\u001b[0m \u001b[0;32melse\u001b[0m \u001b[0;34m'c'\u001b[0m\u001b[0;34m,\u001b[0m\u001b[0;34m\u001b[0m\u001b[0m\n\u001b[1;32m    263\u001b[0m             )\n\u001b[0;32m--> 264\u001b[0;31m             \u001b[0mbuild_extension\u001b[0m \u001b[0;34m=\u001b[0m \u001b[0mself\u001b[0m\u001b[0;34m.\u001b[0m\u001b[0m_get_build_extension\u001b[0m\u001b[0;34m(\u001b[0m\u001b[0;34m)\u001b[0m\u001b[0;34m\u001b[0m\u001b[0m\n\u001b[0m\u001b[1;32m    265\u001b[0m             \u001b[0;32mtry\u001b[0m\u001b[0;34m:\u001b[0m\u001b[0;34m\u001b[0m\u001b[0m\n\u001b[1;32m    266\u001b[0m                 opts = dict(\n",
      "\u001b[0;32m/opt/conda/lib/python3.5/site-packages/Cython/Build/IpythonMagic.py\u001b[0m in \u001b[0;36m_get_build_extension\u001b[0;34m(self)\u001b[0m\n\u001b[1;32m    327\u001b[0m             \u001b[0;32mpass\u001b[0m\u001b[0;34m\u001b[0m\u001b[0m\n\u001b[1;32m    328\u001b[0m         \u001b[0mdist\u001b[0m\u001b[0;34m.\u001b[0m\u001b[0mparse_config_files\u001b[0m\u001b[0;34m(\u001b[0m\u001b[0mconfig_files\u001b[0m\u001b[0;34m)\u001b[0m\u001b[0;34m\u001b[0m\u001b[0m\n\u001b[0;32m--> 329\u001b[0;31m         \u001b[0mbuild_extension\u001b[0m \u001b[0;34m=\u001b[0m \u001b[0mbuild_ext\u001b[0m\u001b[0;34m(\u001b[0m\u001b[0mdist\u001b[0m\u001b[0;34m)\u001b[0m\u001b[0;34m\u001b[0m\u001b[0m\n\u001b[0m\u001b[1;32m    330\u001b[0m         \u001b[0mbuild_extension\u001b[0m\u001b[0;34m.\u001b[0m\u001b[0mfinalize_options\u001b[0m\u001b[0;34m(\u001b[0m\u001b[0;34m)\u001b[0m\u001b[0;34m\u001b[0m\u001b[0m\n\u001b[1;32m    331\u001b[0m         \u001b[0;32mreturn\u001b[0m \u001b[0mbuild_extension\u001b[0m\u001b[0;34m\u001b[0m\u001b[0m\n",
      "\u001b[0;32m/opt/conda/lib/python3.5/distutils/cmd.py\u001b[0m in \u001b[0;36m__init__\u001b[0;34m(self, dist)\u001b[0m\n\u001b[1;32m     55\u001b[0m \u001b[0;34m\u001b[0m\u001b[0m\n\u001b[1;32m     56\u001b[0m         \u001b[0;32mif\u001b[0m \u001b[0;32mnot\u001b[0m \u001b[0misinstance\u001b[0m\u001b[0;34m(\u001b[0m\u001b[0mdist\u001b[0m\u001b[0;34m,\u001b[0m \u001b[0mDistribution\u001b[0m\u001b[0;34m)\u001b[0m\u001b[0;34m:\u001b[0m\u001b[0;34m\u001b[0m\u001b[0m\n\u001b[0;32m---> 57\u001b[0;31m             \u001b[0;32mraise\u001b[0m \u001b[0mTypeError\u001b[0m\u001b[0;34m(\u001b[0m\u001b[0;34m\"dist must be a Distribution instance\"\u001b[0m\u001b[0;34m)\u001b[0m\u001b[0;34m\u001b[0m\u001b[0m\n\u001b[0m\u001b[1;32m     58\u001b[0m         \u001b[0;32mif\u001b[0m \u001b[0mself\u001b[0m\u001b[0;34m.\u001b[0m\u001b[0m__class__\u001b[0m \u001b[0;32mis\u001b[0m \u001b[0mCommand\u001b[0m\u001b[0;34m:\u001b[0m\u001b[0;34m\u001b[0m\u001b[0m\n\u001b[1;32m     59\u001b[0m             \u001b[0;32mraise\u001b[0m \u001b[0mRuntimeError\u001b[0m\u001b[0;34m(\u001b[0m\u001b[0;34m\"Command is an abstract class\"\u001b[0m\u001b[0;34m)\u001b[0m\u001b[0;34m\u001b[0m\u001b[0m\n",
      "\u001b[0;31mTypeError\u001b[0m: dist must be a Distribution instance"
     ]
    }
   ],
   "source": [
    "%%cython -a --compile-args=-fopenmp --link-args=-fopenmp --force\n",
    "\n",
    "import cython\n",
    "import numpy as np\n",
    "from cython.parallel import parallel, prange\n",
    "\n",
    "@cython.boundscheck(False)\n",
    "@cython.wraparound(False)\n",
    "def Loop4_cython(K, A, B, C, WordTopic, TopicWord, alpha, beta, m, P):\n",
    "    with cython.nogil, parallel():\n",
    "        p = np.zeros(K)\n",
    "        for k in prange(K):\n",
    "            p[k] = (A[m, k] + alpha[k])*((B[k, WordTopic] + beta[TopicWord])/(C[k] + (beta[1]*len(beta))))"
   ]
  },
  {
   "cell_type": "code",
   "execution_count": 211,
   "metadata": {
    "collapsed": false
   },
   "outputs": [
    {
     "name": "stdout",
     "output_type": "stream",
     "text": [
      "7.68 µs ± 1.96 µs per loop (mean ± std. dev. of 30 runs, 30 loops each)\n"
     ]
    }
   ],
   "source": [
    "%timeit -r30 -n30 Loop4_slow(K, A, B, C, Z[m,n], W[m,n], alpha, beta)"
   ]
  },
  {
   "cell_type": "code",
   "execution_count": 212,
   "metadata": {
    "collapsed": false,
    "scrolled": true
   },
   "outputs": [
    {
     "name": "stdout",
     "output_type": "stream",
     "text": [
      "2.41 µs ± 285 ns per loop (mean ± std. dev. of 30 runs, 30 loops each)\n"
     ]
    }
   ],
   "source": [
    "%timeit -r30 -n30 Loop4(K, A, B, C, Z[m,n], W[m,n], alpha, beta)"
   ]
  },
  {
   "cell_type": "code",
   "execution_count": 220,
   "metadata": {
    "collapsed": false
   },
   "outputs": [
    {
     "name": "stdout",
     "output_type": "stream",
     "text": [
      "7.28 µs ± 3.11 µs per loop (mean ± std. dev. of 30 runs, 30 loops each)\n"
     ]
    }
   ],
   "source": [
    "%timeit -r30 -n30 Loop4_cython(K, A, B, C, Z[m,n], W[m,n], alpha, beta, m) # Without parallelization"
   ]
  },
  {
   "cell_type": "markdown",
   "metadata": {},
   "source": [
    "### LOOP 3 optimization"
   ]
  },
  {
   "cell_type": "code",
   "execution_count": 217,
   "metadata": {
    "collapsed": false
   },
   "outputs": [
    {
     "name": "stderr",
     "output_type": "stream",
     "text": [
      "\n",
      "Error compiling Cython file:\n",
      "------------------------------------------------------------\n",
      "...\n",
      "@cython.wraparound(False)\n",
      "\n",
      "def test_fun(reps, K, A, B, C, WordTopic, TopicWord, alpha, beta):\n",
      "    x = np.zeros((reps, K))\n",
      "    for i in range(reps):\n",
      "        x[i,:] = Loop4(K, A, B, C, WordTopic, TopicWord, alpha, beta)\n",
      "                     ^\n",
      "------------------------------------------------------------\n",
      "\n",
      "/home/jovyan/.cache/ipython/cython/_cython_magic_d4ab8870b2535c04b60bbb7adf77de82.pyx:11:22: undeclared name not builtin: Loop4\n"
     ]
    }
   ],
   "source": [
    "%%cython -a\n",
    "\n",
    "import cython\n",
    "import numpy as np\n",
    "\n",
    "@cython.boundscheck(False)\n",
    "@cython.wraparound(False)\n",
    "\n",
    "def test_fun(reps, K, A, B, C, WordTopic, TopicWord, alpha, beta):\n",
    "    x = np.zeros((reps, K))\n",
    "    for i in range(reps):\n",
    "        x[i,:] = Loop4(K, A, B, C, WordTopic, TopicWord, alpha, beta)"
   ]
  },
  {
   "cell_type": "code",
   "execution_count": null,
   "metadata": {
    "collapsed": true
   },
   "outputs": [],
   "source": [
    "Loop4(K, A, B, C, Z[m,n], W[m,n], alpha, beta)"
   ]
  },
  {
   "cell_type": "code",
   "execution_count": 215,
   "metadata": {
    "collapsed": false
   },
   "outputs": [],
   "source": [
    "x = np.zeros((4,3))\n",
    "x[1,:] = np.array([1,2,3])"
   ]
  },
  {
   "cell_type": "code",
   "execution_count": 216,
   "metadata": {
    "collapsed": false
   },
   "outputs": [
    {
     "data": {
      "text/plain": [
       "array([[ 0.,  0.,  0.],\n",
       "       [ 1.,  2.,  3.],\n",
       "       [ 0.,  0.,  0.],\n",
       "       [ 0.,  0.,  0.]])"
      ]
     },
     "execution_count": 216,
     "metadata": {},
     "output_type": "execute_result"
    }
   ],
   "source": [
    "x"
   ]
  },
  {
   "cell_type": "code",
   "execution_count": null,
   "metadata": {
    "collapsed": false
   },
   "outputs": [],
   "source": [
    "theta = np.zeros((M, K))\n",
    "for m in range(M):\n",
    "    for k in range(K):\n",
    "        theta[m , k] = (A[m, k] + alpha[k])/(doc_lens[m] + sum(alpha))\n",
    "np.round(theta, 2)"
   ]
  },
  {
   "cell_type": "code",
   "execution_count": null,
   "metadata": {
    "collapsed": false
   },
   "outputs": [],
   "source": [
    "np.round(theta_true, 2)"
   ]
  },
  {
   "cell_type": "markdown",
   "metadata": {
    "collapsed": true
   },
   "source": [
    "# C++"
   ]
  },
  {
   "cell_type": "code",
   "execution_count": 229,
   "metadata": {
    "collapsed": false
   },
   "outputs": [],
   "source": [
    "import cppimport\n",
    "import pybind11"
   ]
  },
  {
   "cell_type": "code",
   "execution_count": 234,
   "metadata": {
    "collapsed": false
   },
   "outputs": [
    {
     "name": "stdout",
     "output_type": "stream",
     "text": [
      "Overwriting ex1.cpp\n"
     ]
    }
   ],
   "source": [
    "%%file ex1.cpp\n",
    "<%\n",
    "setup_pybind11(cfg)\n",
    "%>\n",
    "#include <pybind11/pybind11.h>\n",
    "namespace py = pybind11;\n",
    "\n",
    "PYBIND11_MODULE(ex1, m) {\n",
    "    m.def(\"add\", [](int a, int b) { return a + b; });\n",
    "    m.def(\"mult\", [](int a, int b) { return a * b; });\n",
    "}"
   ]
  },
  {
   "cell_type": "code",
   "execution_count": 236,
   "metadata": {
    "collapsed": false
   },
   "outputs": [
    {
     "data": {
      "text/plain": [
       "7"
      ]
     },
     "execution_count": 236,
     "metadata": {},
     "output_type": "execute_result"
    }
   ],
   "source": [
    "import cppimport\n",
    "ex1 = cppimport.imp(\"ex1\")\n",
    "\n",
    "ex1.add(3,4)"
   ]
  },
  {
   "cell_type": "code",
   "execution_count": 237,
   "metadata": {
    "collapsed": false
   },
   "outputs": [
    {
     "name": "stdout",
     "output_type": "stream",
     "text": [
      "Writing ex9.cpp\n"
     ]
    }
   ],
   "source": [
    "%%file ex9.cpp\n",
    "<%\n",
    "cfg['compiler_args'] = ['-std=c++11']\n",
    "cfg['include_dirs'] = ['eigen']\n",
    "setup_pybind11(cfg)\n",
    "%>\n",
    "\n",
    "#include <pybind11/pybind11.h>\n",
    "#include <pybind11/eigen.h>\n",
    "\n",
    "#include <Eigen/LU>\n",
    "\n",
    "namespace py = pybind11;\n",
    "\n",
    "// convenient matrix indexing comes for free\n",
    "double get(Eigen::MatrixXd xs, int i, int j) {\n",
    "    return xs(i, j);\n",
    "}\n",
    "\n",
    "// takes numpy array as input and returns double\n",
    "double det(Eigen::MatrixXd xs) {\n",
    "    return xs.determinant();\n",
    "}\n",
    "\n",
    "// takes numpy array as input and returns another numpy array\n",
    "Eigen::MatrixXd inv(Eigen::MatrixXd xs) {\n",
    "    return xs.inverse() + xs.det();\n",
    "}\n",
    "\n",
    "PYBIND11_MODULE(ex9, m) {\n",
    "    m.doc() = \"auto-compiled c++ extension\";\n",
    "    m.def(\"inv\", &inv);\n",
    "    m.def(\"det\", &det);\n",
    "}"
   ]
  },
  {
   "cell_type": "code",
   "execution_count": 239,
   "metadata": {
    "collapsed": false
   },
   "outputs": [
    {
     "ename": "SystemExit",
     "evalue": "error: Command \"gcc -pthread -Wsign-compare -DNDEBUG -g -fwrapv -O3 -Wall -Wstrict-prototypes -fPIC -I/home/jovyan/work/Final_Project/STA663_Project/eigen -I/opt/conda/include/python3.5m -I/home/jovyan/.local/include/python3.5m -I/home/jovyan/work/Final_Project/STA663_Project -I/opt/conda/include/python3.5m -c /home/jovyan/work/Final_Project/STA663_Project/.rendered.ex9.cpp -o /tmp/tmprp7lcqls/home/jovyan/work/Final_Project/STA663_Project/.rendered.ex9.o -std=c++11 -std=c++11\" failed with exit status 1",
     "output_type": "error",
     "traceback": [
      "\u001b[0;31m\u001b[0m",
      "\u001b[0;31mDistutilsExecError\u001b[0mTraceback (most recent call last)",
      "\u001b[0;32m/opt/conda/lib/python3.5/site-packages/numpy/distutils/unixccompiler.py\u001b[0m in \u001b[0;36mUnixCCompiler__compile\u001b[0;34m(self, obj, src, ext, cc_args, extra_postargs, pp_opts)\u001b[0m\n\u001b[1;32m     48\u001b[0m         self.spawn(self.compiler_so + cc_args + [src, '-o', obj] +\n\u001b[0;32m---> 49\u001b[0;31m                    extra_postargs, display = display)\n\u001b[0m\u001b[1;32m     50\u001b[0m     \u001b[0;32mexcept\u001b[0m \u001b[0mDistutilsExecError\u001b[0m\u001b[0;34m:\u001b[0m\u001b[0;34m\u001b[0m\u001b[0m\n",
      "\u001b[0;32m/opt/conda/lib/python3.5/site-packages/numpy/distutils/ccompiler.py\u001b[0m in \u001b[0;36m<lambda>\u001b[0;34m(self, *args, **kw)\u001b[0m\n\u001b[1;32m     26\u001b[0m         \u001b[0;31m# Py3k does not have unbound method anymore, MethodType does not work\u001b[0m\u001b[0;34m\u001b[0m\u001b[0;34m\u001b[0m\u001b[0m\n\u001b[0;32m---> 27\u001b[0;31m         \u001b[0mm\u001b[0m \u001b[0;34m=\u001b[0m \u001b[0;32mlambda\u001b[0m \u001b[0mself\u001b[0m\u001b[0;34m,\u001b[0m \u001b[0;34m*\u001b[0m\u001b[0margs\u001b[0m\u001b[0;34m,\u001b[0m \u001b[0;34m**\u001b[0m\u001b[0mkw\u001b[0m\u001b[0;34m:\u001b[0m \u001b[0mfunc\u001b[0m\u001b[0;34m(\u001b[0m\u001b[0mself\u001b[0m\u001b[0;34m,\u001b[0m \u001b[0;34m*\u001b[0m\u001b[0margs\u001b[0m\u001b[0;34m,\u001b[0m \u001b[0;34m**\u001b[0m\u001b[0mkw\u001b[0m\u001b[0;34m)\u001b[0m\u001b[0;34m\u001b[0m\u001b[0m\n\u001b[0m\u001b[1;32m     28\u001b[0m     \u001b[0msetattr\u001b[0m\u001b[0;34m(\u001b[0m\u001b[0mklass\u001b[0m\u001b[0;34m,\u001b[0m \u001b[0mmethod_name\u001b[0m\u001b[0;34m,\u001b[0m \u001b[0mm\u001b[0m\u001b[0;34m)\u001b[0m\u001b[0;34m\u001b[0m\u001b[0m\n",
      "\u001b[0;32m/opt/conda/lib/python3.5/site-packages/numpy/distutils/ccompiler.py\u001b[0m in \u001b[0;36mCCompiler_spawn\u001b[0;34m(self, cmd, display)\u001b[0m\n\u001b[1;32m     70\u001b[0m             \u001b[0mmsg\u001b[0m \u001b[0;34m=\u001b[0m \u001b[0;34m''\u001b[0m\u001b[0;34m\u001b[0m\u001b[0m\n\u001b[0;32m---> 71\u001b[0;31m         \u001b[0;32mraise\u001b[0m \u001b[0mDistutilsExecError\u001b[0m\u001b[0;34m(\u001b[0m\u001b[0;34m'Command \"%s\" failed with exit status %d%s'\u001b[0m \u001b[0;34m%\u001b[0m \u001b[0;34m(\u001b[0m\u001b[0mcmd\u001b[0m\u001b[0;34m,\u001b[0m \u001b[0ms\u001b[0m\u001b[0;34m,\u001b[0m \u001b[0mmsg\u001b[0m\u001b[0;34m)\u001b[0m\u001b[0;34m)\u001b[0m\u001b[0;34m\u001b[0m\u001b[0m\n\u001b[0m\u001b[1;32m     72\u001b[0m \u001b[0;34m\u001b[0m\u001b[0m\n",
      "\u001b[0;31mDistutilsExecError\u001b[0m: Command \"gcc -pthread -Wsign-compare -DNDEBUG -g -fwrapv -O3 -Wall -Wstrict-prototypes -fPIC -I/home/jovyan/work/Final_Project/STA663_Project/eigen -I/opt/conda/include/python3.5m -I/home/jovyan/.local/include/python3.5m -I/home/jovyan/work/Final_Project/STA663_Project -I/opt/conda/include/python3.5m -c /home/jovyan/work/Final_Project/STA663_Project/.rendered.ex9.cpp -o /tmp/tmprp7lcqls/home/jovyan/work/Final_Project/STA663_Project/.rendered.ex9.o -std=c++11 -std=c++11\" failed with exit status 1",
      "\nDuring handling of the above exception, another exception occurred:\n",
      "\u001b[0;31mCompileError\u001b[0mTraceback (most recent call last)",
      "\u001b[0;32m/opt/conda/lib/python3.5/distutils/core.py\u001b[0m in \u001b[0;36msetup\u001b[0;34m(**attrs)\u001b[0m\n\u001b[1;32m    147\u001b[0m         \u001b[0;32mtry\u001b[0m\u001b[0;34m:\u001b[0m\u001b[0;34m\u001b[0m\u001b[0m\n\u001b[0;32m--> 148\u001b[0;31m             \u001b[0mdist\u001b[0m\u001b[0;34m.\u001b[0m\u001b[0mrun_commands\u001b[0m\u001b[0;34m(\u001b[0m\u001b[0;34m)\u001b[0m\u001b[0;34m\u001b[0m\u001b[0m\n\u001b[0m\u001b[1;32m    149\u001b[0m         \u001b[0;32mexcept\u001b[0m \u001b[0mKeyboardInterrupt\u001b[0m\u001b[0;34m:\u001b[0m\u001b[0;34m\u001b[0m\u001b[0m\n",
      "\u001b[0;32m/opt/conda/lib/python3.5/distutils/dist.py\u001b[0m in \u001b[0;36mrun_commands\u001b[0;34m(self)\u001b[0m\n\u001b[1;32m    954\u001b[0m         \u001b[0;32mfor\u001b[0m \u001b[0mcmd\u001b[0m \u001b[0;32min\u001b[0m \u001b[0mself\u001b[0m\u001b[0;34m.\u001b[0m\u001b[0mcommands\u001b[0m\u001b[0;34m:\u001b[0m\u001b[0;34m\u001b[0m\u001b[0m\n\u001b[0;32m--> 955\u001b[0;31m             \u001b[0mself\u001b[0m\u001b[0;34m.\u001b[0m\u001b[0mrun_command\u001b[0m\u001b[0;34m(\u001b[0m\u001b[0mcmd\u001b[0m\u001b[0;34m)\u001b[0m\u001b[0;34m\u001b[0m\u001b[0m\n\u001b[0m\u001b[1;32m    956\u001b[0m \u001b[0;34m\u001b[0m\u001b[0m\n",
      "\u001b[0;32m/opt/conda/lib/python3.5/distutils/dist.py\u001b[0m in \u001b[0;36mrun_command\u001b[0;34m(self, command)\u001b[0m\n\u001b[1;32m    973\u001b[0m         \u001b[0mcmd_obj\u001b[0m\u001b[0;34m.\u001b[0m\u001b[0mensure_finalized\u001b[0m\u001b[0;34m(\u001b[0m\u001b[0;34m)\u001b[0m\u001b[0;34m\u001b[0m\u001b[0m\n\u001b[0;32m--> 974\u001b[0;31m         \u001b[0mcmd_obj\u001b[0m\u001b[0;34m.\u001b[0m\u001b[0mrun\u001b[0m\u001b[0;34m(\u001b[0m\u001b[0;34m)\u001b[0m\u001b[0;34m\u001b[0m\u001b[0m\n\u001b[0m\u001b[1;32m    975\u001b[0m         \u001b[0mself\u001b[0m\u001b[0;34m.\u001b[0m\u001b[0mhave_run\u001b[0m\u001b[0;34m[\u001b[0m\u001b[0mcommand\u001b[0m\u001b[0;34m]\u001b[0m \u001b[0;34m=\u001b[0m \u001b[0;36m1\u001b[0m\u001b[0;34m\u001b[0m\u001b[0m\n",
      "\u001b[0;32m/opt/conda/lib/python3.5/site-packages/setuptools-23.0.0-py3.5.egg/setuptools/command/build_ext.py\u001b[0m in \u001b[0;36mrun\u001b[0;34m(self)\u001b[0m\n\u001b[1;32m     65\u001b[0m         \u001b[0mold_inplace\u001b[0m\u001b[0;34m,\u001b[0m \u001b[0mself\u001b[0m\u001b[0;34m.\u001b[0m\u001b[0minplace\u001b[0m \u001b[0;34m=\u001b[0m \u001b[0mself\u001b[0m\u001b[0;34m.\u001b[0m\u001b[0minplace\u001b[0m\u001b[0;34m,\u001b[0m \u001b[0;36m0\u001b[0m\u001b[0;34m\u001b[0m\u001b[0m\n\u001b[0;32m---> 66\u001b[0;31m         \u001b[0m_build_ext\u001b[0m\u001b[0;34m.\u001b[0m\u001b[0mrun\u001b[0m\u001b[0;34m(\u001b[0m\u001b[0mself\u001b[0m\u001b[0;34m)\u001b[0m\u001b[0;34m\u001b[0m\u001b[0m\n\u001b[0m\u001b[1;32m     67\u001b[0m         \u001b[0mself\u001b[0m\u001b[0;34m.\u001b[0m\u001b[0minplace\u001b[0m \u001b[0;34m=\u001b[0m \u001b[0mold_inplace\u001b[0m\u001b[0;34m\u001b[0m\u001b[0m\n",
      "\u001b[0;32m/opt/conda/lib/python3.5/site-packages/Cython/Distutils/build_ext.py\u001b[0m in \u001b[0;36mrun\u001b[0;34m(self)\u001b[0m\n\u001b[1;32m    163\u001b[0m \u001b[0;34m\u001b[0m\u001b[0m\n\u001b[0;32m--> 164\u001b[0;31m         \u001b[0m_build_ext\u001b[0m\u001b[0;34m.\u001b[0m\u001b[0mbuild_ext\u001b[0m\u001b[0;34m.\u001b[0m\u001b[0mrun\u001b[0m\u001b[0;34m(\u001b[0m\u001b[0mself\u001b[0m\u001b[0;34m)\u001b[0m\u001b[0;34m\u001b[0m\u001b[0m\n\u001b[0m\u001b[1;32m    165\u001b[0m \u001b[0;34m\u001b[0m\u001b[0m\n",
      "\u001b[0;32m/opt/conda/lib/python3.5/distutils/command/build_ext.py\u001b[0m in \u001b[0;36mrun\u001b[0;34m(self)\u001b[0m\n\u001b[1;32m    337\u001b[0m         \u001b[0;31m# Now actually compile and link everything.\u001b[0m\u001b[0;34m\u001b[0m\u001b[0;34m\u001b[0m\u001b[0m\n\u001b[0;32m--> 338\u001b[0;31m         \u001b[0mself\u001b[0m\u001b[0;34m.\u001b[0m\u001b[0mbuild_extensions\u001b[0m\u001b[0;34m(\u001b[0m\u001b[0;34m)\u001b[0m\u001b[0;34m\u001b[0m\u001b[0m\n\u001b[0m\u001b[1;32m    339\u001b[0m \u001b[0;34m\u001b[0m\u001b[0m\n",
      "\u001b[0;32m/opt/conda/lib/python3.5/site-packages/Cython/Distutils/build_ext.py\u001b[0m in \u001b[0;36mbuild_extensions\u001b[0;34m(self)\u001b[0m\n\u001b[1;32m    171\u001b[0m             \u001b[0mext\u001b[0m\u001b[0;34m.\u001b[0m\u001b[0msources\u001b[0m \u001b[0;34m=\u001b[0m \u001b[0mself\u001b[0m\u001b[0;34m.\u001b[0m\u001b[0mcython_sources\u001b[0m\u001b[0;34m(\u001b[0m\u001b[0mext\u001b[0m\u001b[0;34m.\u001b[0m\u001b[0msources\u001b[0m\u001b[0;34m,\u001b[0m \u001b[0mext\u001b[0m\u001b[0;34m)\u001b[0m\u001b[0;34m\u001b[0m\u001b[0m\n\u001b[0;32m--> 172\u001b[0;31m             \u001b[0mself\u001b[0m\u001b[0;34m.\u001b[0m\u001b[0mbuild_extension\u001b[0m\u001b[0;34m(\u001b[0m\u001b[0mext\u001b[0m\u001b[0;34m)\u001b[0m\u001b[0;34m\u001b[0m\u001b[0m\n\u001b[0m\u001b[1;32m    173\u001b[0m \u001b[0;34m\u001b[0m\u001b[0m\n",
      "\u001b[0;32m/opt/conda/lib/python3.5/site-packages/setuptools-23.0.0-py3.5.egg/setuptools/command/build_ext.py\u001b[0m in \u001b[0;36mbuild_extension\u001b[0;34m(self, ext)\u001b[0m\n\u001b[1;32m    177\u001b[0m                 \u001b[0mself\u001b[0m\u001b[0;34m.\u001b[0m\u001b[0mcompiler\u001b[0m \u001b[0;34m=\u001b[0m \u001b[0mself\u001b[0m\u001b[0;34m.\u001b[0m\u001b[0mshlib_compiler\u001b[0m\u001b[0;34m\u001b[0m\u001b[0m\n\u001b[0;32m--> 178\u001b[0;31m             \u001b[0m_build_ext\u001b[0m\u001b[0;34m.\u001b[0m\u001b[0mbuild_extension\u001b[0m\u001b[0;34m(\u001b[0m\u001b[0mself\u001b[0m\u001b[0;34m,\u001b[0m \u001b[0mext\u001b[0m\u001b[0;34m)\u001b[0m\u001b[0;34m\u001b[0m\u001b[0m\n\u001b[0m\u001b[1;32m    179\u001b[0m             \u001b[0;32mif\u001b[0m \u001b[0mext\u001b[0m\u001b[0;34m.\u001b[0m\u001b[0m_needs_stub\u001b[0m\u001b[0;34m:\u001b[0m\u001b[0;34m\u001b[0m\u001b[0m\n",
      "\u001b[0;32m/opt/conda/lib/python3.5/distutils/command/build_ext.py\u001b[0m in \u001b[0;36mbuild_extension\u001b[0;34m(self, ext)\u001b[0m\n\u001b[1;32m    531\u001b[0m                                          \u001b[0mextra_postargs\u001b[0m\u001b[0;34m=\u001b[0m\u001b[0mextra_args\u001b[0m\u001b[0;34m,\u001b[0m\u001b[0;34m\u001b[0m\u001b[0m\n\u001b[0;32m--> 532\u001b[0;31m                                          depends=ext.depends)\n\u001b[0m\u001b[1;32m    533\u001b[0m \u001b[0;34m\u001b[0m\u001b[0m\n",
      "\u001b[0;32m/opt/conda/lib/python3.5/site-packages/numpy/distutils/ccompiler.py\u001b[0m in \u001b[0;36m<lambda>\u001b[0;34m(self, *args, **kw)\u001b[0m\n\u001b[1;32m     26\u001b[0m         \u001b[0;31m# Py3k does not have unbound method anymore, MethodType does not work\u001b[0m\u001b[0;34m\u001b[0m\u001b[0;34m\u001b[0m\u001b[0m\n\u001b[0;32m---> 27\u001b[0;31m         \u001b[0mm\u001b[0m \u001b[0;34m=\u001b[0m \u001b[0;32mlambda\u001b[0m \u001b[0mself\u001b[0m\u001b[0;34m,\u001b[0m \u001b[0;34m*\u001b[0m\u001b[0margs\u001b[0m\u001b[0;34m,\u001b[0m \u001b[0;34m**\u001b[0m\u001b[0mkw\u001b[0m\u001b[0;34m:\u001b[0m \u001b[0mfunc\u001b[0m\u001b[0;34m(\u001b[0m\u001b[0mself\u001b[0m\u001b[0;34m,\u001b[0m \u001b[0;34m*\u001b[0m\u001b[0margs\u001b[0m\u001b[0;34m,\u001b[0m \u001b[0;34m**\u001b[0m\u001b[0mkw\u001b[0m\u001b[0;34m)\u001b[0m\u001b[0;34m\u001b[0m\u001b[0m\n\u001b[0m\u001b[1;32m     28\u001b[0m     \u001b[0msetattr\u001b[0m\u001b[0;34m(\u001b[0m\u001b[0mklass\u001b[0m\u001b[0;34m,\u001b[0m \u001b[0mmethod_name\u001b[0m\u001b[0;34m,\u001b[0m \u001b[0mm\u001b[0m\u001b[0;34m)\u001b[0m\u001b[0;34m\u001b[0m\u001b[0m\n",
      "\u001b[0;32m/opt/conda/lib/python3.5/site-packages/numpy/distutils/ccompiler.py\u001b[0m in \u001b[0;36mCCompiler_compile\u001b[0;34m(self, sources, output_dir, macros, include_dirs, debug, extra_preargs, extra_postargs, depends)\u001b[0m\n\u001b[1;32m    229\u001b[0m         \u001b[0;32mfor\u001b[0m \u001b[0mo\u001b[0m \u001b[0;32min\u001b[0m \u001b[0mbuild_items\u001b[0m\u001b[0;34m:\u001b[0m\u001b[0;34m\u001b[0m\u001b[0m\n\u001b[0;32m--> 230\u001b[0;31m             \u001b[0msingle_compile\u001b[0m\u001b[0;34m(\u001b[0m\u001b[0mo\u001b[0m\u001b[0;34m)\u001b[0m\u001b[0;34m\u001b[0m\u001b[0m\n\u001b[0m\u001b[1;32m    231\u001b[0m \u001b[0;34m\u001b[0m\u001b[0m\n",
      "\u001b[0;32m/opt/conda/lib/python3.5/site-packages/numpy/distutils/ccompiler.py\u001b[0m in \u001b[0;36msingle_compile\u001b[0;34m(args)\u001b[0m\n\u001b[1;32m    193\u001b[0m         \u001b[0mobj\u001b[0m\u001b[0;34m,\u001b[0m \u001b[0;34m(\u001b[0m\u001b[0msrc\u001b[0m\u001b[0;34m,\u001b[0m \u001b[0mext\u001b[0m\u001b[0;34m)\u001b[0m \u001b[0;34m=\u001b[0m \u001b[0margs\u001b[0m\u001b[0;34m\u001b[0m\u001b[0m\n\u001b[0;32m--> 194\u001b[0;31m         \u001b[0mself\u001b[0m\u001b[0;34m.\u001b[0m\u001b[0m_compile\u001b[0m\u001b[0;34m(\u001b[0m\u001b[0mobj\u001b[0m\u001b[0;34m,\u001b[0m \u001b[0msrc\u001b[0m\u001b[0;34m,\u001b[0m \u001b[0mext\u001b[0m\u001b[0;34m,\u001b[0m \u001b[0mcc_args\u001b[0m\u001b[0;34m,\u001b[0m \u001b[0mextra_postargs\u001b[0m\u001b[0;34m,\u001b[0m \u001b[0mpp_opts\u001b[0m\u001b[0;34m)\u001b[0m\u001b[0;34m\u001b[0m\u001b[0m\n\u001b[0m\u001b[1;32m    195\u001b[0m \u001b[0;34m\u001b[0m\u001b[0m\n",
      "\u001b[0;32m/opt/conda/lib/python3.5/site-packages/numpy/distutils/ccompiler.py\u001b[0m in \u001b[0;36m<lambda>\u001b[0;34m(self, *args, **kw)\u001b[0m\n\u001b[1;32m     26\u001b[0m         \u001b[0;31m# Py3k does not have unbound method anymore, MethodType does not work\u001b[0m\u001b[0;34m\u001b[0m\u001b[0;34m\u001b[0m\u001b[0m\n\u001b[0;32m---> 27\u001b[0;31m         \u001b[0mm\u001b[0m \u001b[0;34m=\u001b[0m \u001b[0;32mlambda\u001b[0m \u001b[0mself\u001b[0m\u001b[0;34m,\u001b[0m \u001b[0;34m*\u001b[0m\u001b[0margs\u001b[0m\u001b[0;34m,\u001b[0m \u001b[0;34m**\u001b[0m\u001b[0mkw\u001b[0m\u001b[0;34m:\u001b[0m \u001b[0mfunc\u001b[0m\u001b[0;34m(\u001b[0m\u001b[0mself\u001b[0m\u001b[0;34m,\u001b[0m \u001b[0;34m*\u001b[0m\u001b[0margs\u001b[0m\u001b[0;34m,\u001b[0m \u001b[0;34m**\u001b[0m\u001b[0mkw\u001b[0m\u001b[0;34m)\u001b[0m\u001b[0;34m\u001b[0m\u001b[0m\n\u001b[0m\u001b[1;32m     28\u001b[0m     \u001b[0msetattr\u001b[0m\u001b[0;34m(\u001b[0m\u001b[0mklass\u001b[0m\u001b[0;34m,\u001b[0m \u001b[0mmethod_name\u001b[0m\u001b[0;34m,\u001b[0m \u001b[0mm\u001b[0m\u001b[0;34m)\u001b[0m\u001b[0;34m\u001b[0m\u001b[0m\n",
      "\u001b[0;32m/opt/conda/lib/python3.5/site-packages/numpy/distutils/unixccompiler.py\u001b[0m in \u001b[0;36mUnixCCompiler__compile\u001b[0;34m(self, obj, src, ext, cc_args, extra_postargs, pp_opts)\u001b[0m\n\u001b[1;32m     51\u001b[0m         \u001b[0mmsg\u001b[0m \u001b[0;34m=\u001b[0m \u001b[0mstr\u001b[0m\u001b[0;34m(\u001b[0m\u001b[0mget_exception\u001b[0m\u001b[0;34m(\u001b[0m\u001b[0;34m)\u001b[0m\u001b[0;34m)\u001b[0m\u001b[0;34m\u001b[0m\u001b[0m\n\u001b[0;32m---> 52\u001b[0;31m         \u001b[0;32mraise\u001b[0m \u001b[0mCompileError\u001b[0m\u001b[0;34m(\u001b[0m\u001b[0mmsg\u001b[0m\u001b[0;34m)\u001b[0m\u001b[0;34m\u001b[0m\u001b[0m\n\u001b[0m\u001b[1;32m     53\u001b[0m \u001b[0;34m\u001b[0m\u001b[0m\n",
      "\u001b[0;31mCompileError\u001b[0m: Command \"gcc -pthread -Wsign-compare -DNDEBUG -g -fwrapv -O3 -Wall -Wstrict-prototypes -fPIC -I/home/jovyan/work/Final_Project/STA663_Project/eigen -I/opt/conda/include/python3.5m -I/home/jovyan/.local/include/python3.5m -I/home/jovyan/work/Final_Project/STA663_Project -I/opt/conda/include/python3.5m -c /home/jovyan/work/Final_Project/STA663_Project/.rendered.ex9.cpp -o /tmp/tmprp7lcqls/home/jovyan/work/Final_Project/STA663_Project/.rendered.ex9.o -std=c++11 -std=c++11\" failed with exit status 1",
      "\nDuring handling of the above exception, another exception occurred:\n",
      "\u001b[0;31mSystemExit\u001b[0mTraceback (most recent call last)",
      "\u001b[0;32m<ipython-input-238-4c80337f7a2a>\u001b[0m in \u001b[0;36m<module>\u001b[0;34m()\u001b[0m\n\u001b[1;32m      1\u001b[0m \u001b[0;32mimport\u001b[0m \u001b[0mnumpy\u001b[0m \u001b[0;32mas\u001b[0m \u001b[0mnp\u001b[0m\u001b[0;34m\u001b[0m\u001b[0m\n\u001b[1;32m      2\u001b[0m \u001b[0;34m\u001b[0m\u001b[0m\n\u001b[0;32m----> 3\u001b[0;31m \u001b[0mcode\u001b[0m \u001b[0;34m=\u001b[0m \u001b[0mcppimport\u001b[0m\u001b[0;34m.\u001b[0m\u001b[0mimp\u001b[0m\u001b[0;34m(\u001b[0m\u001b[0;34m\"ex9\"\u001b[0m\u001b[0;34m)\u001b[0m\u001b[0;34m\u001b[0m\u001b[0m\n\u001b[0m\u001b[1;32m      4\u001b[0m \u001b[0;34m\u001b[0m\u001b[0m\n\u001b[1;32m      5\u001b[0m A = np.array([[1,2,1],\n",
      "\u001b[0;32m/opt/conda/lib/python3.5/site-packages/cppimport/importer.py\u001b[0m in \u001b[0;36mimp\u001b[0;34m(fullname, opt_in)\u001b[0m\n\u001b[1;32m     82\u001b[0m     \u001b[0;31m# Search through sys.path to find a file that matches the module\u001b[0m\u001b[0;34m\u001b[0m\u001b[0;34m\u001b[0m\u001b[0m\n\u001b[1;32m     83\u001b[0m     \u001b[0mfilepath\u001b[0m \u001b[0;34m=\u001b[0m \u001b[0mcppimport\u001b[0m\u001b[0;34m.\u001b[0m\u001b[0mfind\u001b[0m\u001b[0;34m.\u001b[0m\u001b[0mfind_module_cpppath\u001b[0m\u001b[0;34m(\u001b[0m\u001b[0mfullname\u001b[0m\u001b[0;34m,\u001b[0m \u001b[0mopt_in\u001b[0m\u001b[0;34m)\u001b[0m\u001b[0;34m\u001b[0m\u001b[0m\n\u001b[0;32m---> 84\u001b[0;31m     \u001b[0;32mreturn\u001b[0m \u001b[0mimp_from_filepath\u001b[0m\u001b[0;34m(\u001b[0m\u001b[0mfilepath\u001b[0m\u001b[0;34m,\u001b[0m \u001b[0mfullname\u001b[0m\u001b[0;34m)\u001b[0m\u001b[0;34m\u001b[0m\u001b[0m\n\u001b[0m\u001b[1;32m     85\u001b[0m \u001b[0;34m\u001b[0m\u001b[0m\n\u001b[1;32m     86\u001b[0m \u001b[0;32mdef\u001b[0m \u001b[0mbuild\u001b[0m\u001b[0;34m(\u001b[0m\u001b[0mfullname\u001b[0m\u001b[0;34m)\u001b[0m\u001b[0;34m:\u001b[0m\u001b[0;34m\u001b[0m\u001b[0m\n",
      "\u001b[0;32m/opt/conda/lib/python3.5/site-packages/cppimport/importer.py\u001b[0m in \u001b[0;36mimp_from_filepath\u001b[0;34m(filepath, fullname)\u001b[0m\n\u001b[1;32m     75\u001b[0m     \u001b[0mmodule_data\u001b[0m \u001b[0;34m=\u001b[0m \u001b[0msetup_module_data\u001b[0m\u001b[0;34m(\u001b[0m\u001b[0mfullname\u001b[0m\u001b[0;34m,\u001b[0m \u001b[0mfilepath\u001b[0m\u001b[0;34m)\u001b[0m\u001b[0;34m\u001b[0m\u001b[0m\n\u001b[1;32m     76\u001b[0m     \u001b[0;32mif\u001b[0m \u001b[0;32mnot\u001b[0m \u001b[0mcheck_checksum\u001b[0m\u001b[0;34m(\u001b[0m\u001b[0mmodule_data\u001b[0m\u001b[0;34m)\u001b[0m \u001b[0;32mor\u001b[0m \u001b[0;32mnot\u001b[0m \u001b[0mtry_load\u001b[0m\u001b[0;34m(\u001b[0m\u001b[0mmodule_data\u001b[0m\u001b[0;34m)\u001b[0m\u001b[0;34m:\u001b[0m\u001b[0;34m\u001b[0m\u001b[0m\n\u001b[0;32m---> 77\u001b[0;31m         \u001b[0mtemplate_and_build\u001b[0m\u001b[0;34m(\u001b[0m\u001b[0mfilepath\u001b[0m\u001b[0;34m,\u001b[0m \u001b[0mmodule_data\u001b[0m\u001b[0;34m)\u001b[0m\u001b[0;34m\u001b[0m\u001b[0m\n\u001b[0m\u001b[1;32m     78\u001b[0m         \u001b[0mload_module\u001b[0m\u001b[0;34m(\u001b[0m\u001b[0mmodule_data\u001b[0m\u001b[0;34m)\u001b[0m\u001b[0;34m\u001b[0m\u001b[0m\n\u001b[1;32m     79\u001b[0m     \u001b[0;32mreturn\u001b[0m \u001b[0mmodule_data\u001b[0m\u001b[0;34m[\u001b[0m\u001b[0;34m'module'\u001b[0m\u001b[0;34m]\u001b[0m\u001b[0;34m\u001b[0m\u001b[0m\n",
      "\u001b[0;32m/opt/conda/lib/python3.5/site-packages/cppimport/importer.py\u001b[0m in \u001b[0;36mtemplate_and_build\u001b[0;34m(filepath, module_data)\u001b[0m\n\u001b[1;32m     67\u001b[0m     \u001b[0mquiet_print\u001b[0m\u001b[0;34m(\u001b[0m\u001b[0;34m\"Compiling \"\u001b[0m \u001b[0;34m+\u001b[0m \u001b[0mfilepath\u001b[0m\u001b[0;34m)\u001b[0m\u001b[0;34m\u001b[0m\u001b[0m\n\u001b[1;32m     68\u001b[0m     \u001b[0mtemplating\u001b[0m\u001b[0;34m.\u001b[0m\u001b[0mrun_templating\u001b[0m\u001b[0;34m(\u001b[0m\u001b[0mmodule_data\u001b[0m\u001b[0;34m)\u001b[0m\u001b[0;34m\u001b[0m\u001b[0m\n\u001b[0;32m---> 69\u001b[0;31m     \u001b[0mbuild_module\u001b[0m\u001b[0;34m.\u001b[0m\u001b[0mbuild_module\u001b[0m\u001b[0;34m(\u001b[0m\u001b[0mmodule_data\u001b[0m\u001b[0;34m)\u001b[0m\u001b[0;34m\u001b[0m\u001b[0m\n\u001b[0m\u001b[1;32m     70\u001b[0m     \u001b[0mcppimport\u001b[0m\u001b[0;34m.\u001b[0m\u001b[0mchecksum\u001b[0m\u001b[0;34m.\u001b[0m\u001b[0mchecksum_save\u001b[0m\u001b[0;34m(\u001b[0m\u001b[0mmodule_data\u001b[0m\u001b[0;34m)\u001b[0m\u001b[0;34m\u001b[0m\u001b[0m\n\u001b[1;32m     71\u001b[0m \u001b[0;34m\u001b[0m\u001b[0m\n",
      "\u001b[0;32m/opt/conda/lib/python3.5/site-packages/cppimport/build_module.py\u001b[0m in \u001b[0;36mbuild_module\u001b[0;34m(module_data)\u001b[0m\n\u001b[1;32m    156\u001b[0m         \u001b[0;32mwith\u001b[0m \u001b[0mstdchannel_redirected\u001b[0m\u001b[0;34m(\u001b[0m\u001b[0;34m\"stdout\"\u001b[0m\u001b[0;34m)\u001b[0m\u001b[0;34m:\u001b[0m\u001b[0;34m\u001b[0m\u001b[0m\n\u001b[1;32m    157\u001b[0m             \u001b[0;32mwith\u001b[0m \u001b[0mstdchannel_redirected\u001b[0m\u001b[0;34m(\u001b[0m\u001b[0;34m\"stderr\"\u001b[0m\u001b[0;34m)\u001b[0m\u001b[0;34m:\u001b[0m\u001b[0;34m\u001b[0m\u001b[0m\n\u001b[0;32m--> 158\u001b[0;31m                 \u001b[0msetuptools\u001b[0m\u001b[0;34m.\u001b[0m\u001b[0msetup\u001b[0m\u001b[0;34m(\u001b[0m\u001b[0;34m**\u001b[0m\u001b[0msetuptools_args\u001b[0m\u001b[0;34m)\u001b[0m\u001b[0;34m\u001b[0m\u001b[0m\n\u001b[0m\u001b[1;32m    159\u001b[0m     \u001b[0;32melse\u001b[0m\u001b[0;34m:\u001b[0m\u001b[0;34m\u001b[0m\u001b[0m\n\u001b[1;32m    160\u001b[0m         \u001b[0msetuptools\u001b[0m\u001b[0;34m.\u001b[0m\u001b[0msetup\u001b[0m\u001b[0;34m(\u001b[0m\u001b[0;34m**\u001b[0m\u001b[0msetuptools_args\u001b[0m\u001b[0;34m)\u001b[0m\u001b[0;34m\u001b[0m\u001b[0m\n",
      "\u001b[0;32m/opt/conda/lib/python3.5/distutils/core.py\u001b[0m in \u001b[0;36msetup\u001b[0;34m(**attrs)\u001b[0m\n\u001b[1;32m    161\u001b[0m                 \u001b[0;32mraise\u001b[0m\u001b[0;34m\u001b[0m\u001b[0m\n\u001b[1;32m    162\u001b[0m             \u001b[0;32melse\u001b[0m\u001b[0;34m:\u001b[0m\u001b[0;34m\u001b[0m\u001b[0m\n\u001b[0;32m--> 163\u001b[0;31m                 \u001b[0;32mraise\u001b[0m \u001b[0mSystemExit\u001b[0m\u001b[0;34m(\u001b[0m\u001b[0;34m\"error: \"\u001b[0m \u001b[0;34m+\u001b[0m \u001b[0mstr\u001b[0m\u001b[0;34m(\u001b[0m\u001b[0mmsg\u001b[0m\u001b[0;34m)\u001b[0m\u001b[0;34m)\u001b[0m\u001b[0;34m\u001b[0m\u001b[0m\n\u001b[0m\u001b[1;32m    164\u001b[0m \u001b[0;34m\u001b[0m\u001b[0m\n\u001b[1;32m    165\u001b[0m     \u001b[0;32mreturn\u001b[0m \u001b[0mdist\u001b[0m\u001b[0;34m\u001b[0m\u001b[0m\n",
      "\u001b[0;31mSystemExit\u001b[0m: error: Command \"gcc -pthread -Wsign-compare -DNDEBUG -g -fwrapv -O3 -Wall -Wstrict-prototypes -fPIC -I/home/jovyan/work/Final_Project/STA663_Project/eigen -I/opt/conda/include/python3.5m -I/home/jovyan/.local/include/python3.5m -I/home/jovyan/work/Final_Project/STA663_Project -I/opt/conda/include/python3.5m -c /home/jovyan/work/Final_Project/STA663_Project/.rendered.ex9.cpp -o /tmp/tmprp7lcqls/home/jovyan/work/Final_Project/STA663_Project/.rendered.ex9.o -std=c++11 -std=c++11\" failed with exit status 1"
     ]
    },
    {
     "ename": "SystemExit",
     "evalue": "error: Command \"gcc -pthread -Wsign-compare -DNDEBUG -g -fwrapv -O3 -Wall -Wstrict-prototypes -fPIC -I/home/jovyan/work/Final_Project/STA663_Project/eigen -I/opt/conda/include/python3.5m -I/home/jovyan/.local/include/python3.5m -I/home/jovyan/work/Final_Project/STA663_Project -I/opt/conda/include/python3.5m -c /home/jovyan/work/Final_Project/STA663_Project/.rendered.ex9.cpp -o /tmp/tmp6tnd4t9q/home/jovyan/work/Final_Project/STA663_Project/.rendered.ex9.o -std=c++11 -std=c++11\" failed with exit status 1",
     "output_type": "error",
     "traceback": [
      "An exception has occurred, use %tb to see the full traceback.\n",
      "\u001b[0;31mSystemExit\u001b[0m\u001b[0;31m:\u001b[0m error: Command \"gcc -pthread -Wsign-compare -DNDEBUG -g -fwrapv -O3 -Wall -Wstrict-prototypes -fPIC -I/home/jovyan/work/Final_Project/STA663_Project/eigen -I/opt/conda/include/python3.5m -I/home/jovyan/.local/include/python3.5m -I/home/jovyan/work/Final_Project/STA663_Project -I/opt/conda/include/python3.5m -c /home/jovyan/work/Final_Project/STA663_Project/.rendered.ex9.cpp -o /tmp/tmp6tnd4t9q/home/jovyan/work/Final_Project/STA663_Project/.rendered.ex9.o -std=c++11 -std=c++11\" failed with exit status 1\n"
     ]
    },
    {
     "name": "stderr",
     "output_type": "stream",
     "text": [
      "/opt/conda/lib/python3.5/site-packages/IPython/core/interactiveshell.py:2870: UserWarning: To exit: use 'exit', 'quit', or Ctrl-D.\n",
      "  warn(\"To exit: use 'exit', 'quit', or Ctrl-D.\", stacklevel=1)\n"
     ]
    }
   ],
   "source": [
    "import numpy as np\n",
    "%tb\n",
    "code = cppimport.imp(\"ex9\")\n",
    "\n",
    "A = np.array([[1,2,1],\n",
    "              [2,1,0],\n",
    "              [-1,1,2]])\n",
    "\n",
    "print(A)\n",
    "print(code.det(A))\n",
    "print(code.inv(A))"
   ]
  },
  {
   "cell_type": "code",
   "execution_count": null,
   "metadata": {
    "collapsed": true
   },
   "outputs": [],
   "source": []
  },
  {
   "cell_type": "code",
   "execution_count": null,
   "metadata": {
    "collapsed": true
   },
   "outputs": [],
   "source": []
  },
  {
   "cell_type": "markdown",
   "metadata": {},
   "source": [
    "### Optimizing with JIT"
   ]
  },
  {
   "cell_type": "code",
   "execution_count": 685,
   "metadata": {
    "collapsed": false
   },
   "outputs": [],
   "source": [
    "# start gibbs sampler\n",
    "@jit(nopython=True, cache=False)\n",
    "def Gibbs2(M, doc_lens, Z, W, K, A, B, C, alpha, beta):\n",
    "    num_iter = 10\n",
    "    p = np.zeros(K)\n",
    "    for i in range(num_iter):\n",
    "        for m in range(M):\n",
    "            for n in range(doc_lens[m]):\n",
    "                A[m, int(Z[m,n])] -= 1  # Decrement N1\n",
    "                B[int(Z[m,n]), int(W[m,n])] -= 1 # Decrement N2\n",
    "                C[int(Z[m,n])] -= 1 # Decrement N3\n",
    "                p = np.zeros(K)\n",
    "                norm = 0\n",
    "                for k in range(K):\n",
    "                    p[k] = (A[m, k] + alpha[k])*((B[k, int(W[m,n])] + beta[int(W[m,n])])/(C[k] + (beta*len(beta))))\n",
    "                    norm+=p[k]\n",
    "                p = p/norm # This is actually doing k divisions... might be a modest speed up but we can parallelize easily with numba\n",
    "                Z[m,n] = int(np.nonzero(np.random.multinomial(1, p))[0][0])\n",
    "                A[m, int(Z[m,n])] += 1 # Increment N1\n",
    "                B[int(Z[m,n]), int(W[m,n])] += 1 # Increment N2\n",
    "                C[int(Z[m,n])] += 1 # Increment N3\n",
    "    return A\n",
    "            "
   ]
  },
  {
   "cell_type": "code",
   "execution_count": 686,
   "metadata": {
    "collapsed": false
   },
   "outputs": [],
   "source": [
    "# start gibbs sampler\n",
    "num_iter = 1\n",
    "for i in range(num_iter):\n",
    "    for m in range(M):\n",
    "        for n in range(doc_lens[m]):\n",
    "            A[m, z[m][n]] -= 1  # Decrement N1\n",
    "            B[z[m][n], w[m][n]] -= 1 # Decrement N2\n",
    "            C[z[m][n]] -= 1 # Decrement N3\n",
    "            p = np.zeros(K)\n",
    "            for k in range(K):\n",
    "                p[k] = (A[m, k] + alpha[k])*((B[k, w[m][n]] + beta[w[m][n]])/(C[k] + sum(beta)))\n",
    "            p /= sum(p) # This is actually doing k divisions... might be a modest speed up but we can parallelize easily with numba\n",
    "            z[m][n] = np.nonzero(np.random.multinomial(1, p))[0][0]\n",
    "            A[m, z[m][n]] += 1 # Increment N1\n",
    "            B[z[m][n], w[m][n]] += 1 # Increment N2\n",
    "            C[z[m][n]] += 1 # Increment N3"
   ]
  },
  {
   "cell_type": "code",
   "execution_count": null,
   "metadata": {
    "collapsed": true
   },
   "outputs": [],
   "source": [
    "@jit(float64[:](float64[:,:], float64[:], float64[:], float64, int64), nopython=True)\n",
    "\n",
    "def Gibbs_Sampler( ,num_iter)\n"
   ]
  },
  {
   "cell_type": "code",
   "execution_count": 1,
   "metadata": {
    "collapsed": true
   },
   "outputs": [],
   "source": [
    "%load_ext cython"
   ]
  },
  {
   "cell_type": "code",
   "execution_count": 147,
   "metadata": {
    "collapsed": false
   },
   "outputs": [],
   "source": [
    "# doc_lens.dtype\n",
    "# test_fun(doc_lens)\n",
    "from numba import njit"
   ]
  },
  {
   "cell_type": "code",
   "execution_count": 150,
   "metadata": {
    "collapsed": false
   },
   "outputs": [],
   "source": [
    "@njit(parallel=True)\n",
    "def f_parallel(x):\n",
    "    x_new = np.zeros(len(x))\n",
    "    for i in range(len(x)):\n",
    "        x_new[i] = np.sqrt(x[i])\n",
    "    return x_new"
   ]
  },
  {
   "cell_type": "code",
   "execution_count": 151,
   "metadata": {
    "collapsed": false
   },
   "outputs": [
    {
     "ename": "KeyError",
     "evalue": "\"Does not support option: 'parallel'\"",
     "output_type": "error",
     "traceback": [
      "\u001b[0;31m\u001b[0m",
      "\u001b[0;31mKeyError\u001b[0mTraceback (most recent call last)",
      "\u001b[0;32m/opt/conda/lib/python3.5/site-packages/numba/targets/options.py\u001b[0m in \u001b[0;36mfrom_dict\u001b[0;34m(self, dic)\u001b[0m\n\u001b[1;32m     15\u001b[0m         \u001b[0;32mfor\u001b[0m \u001b[0mk\u001b[0m\u001b[0;34m,\u001b[0m \u001b[0mv\u001b[0m \u001b[0;32min\u001b[0m \u001b[0mdic\u001b[0m\u001b[0;34m.\u001b[0m\u001b[0mitems\u001b[0m\u001b[0;34m(\u001b[0m\u001b[0;34m)\u001b[0m\u001b[0;34m:\u001b[0m\u001b[0;34m\u001b[0m\u001b[0m\n\u001b[0;32m---> 16\u001b[0;31m             \u001b[0;32mtry\u001b[0m\u001b[0;34m:\u001b[0m\u001b[0;34m\u001b[0m\u001b[0m\n\u001b[0m\u001b[1;32m     17\u001b[0m                 \u001b[0mctor\u001b[0m \u001b[0;34m=\u001b[0m \u001b[0mself\u001b[0m\u001b[0;34m.\u001b[0m\u001b[0mOPTIONS\u001b[0m\u001b[0;34m[\u001b[0m\u001b[0mk\u001b[0m\u001b[0;34m]\u001b[0m\u001b[0;34m\u001b[0m\u001b[0m\n",
      "\u001b[0;31mKeyError\u001b[0m: 'parallel'",
      "\nDuring handling of the above exception, another exception occurred:\n",
      "\u001b[0;31mKeyError\u001b[0mTraceback (most recent call last)",
      "\u001b[0;32m<ipython-input-151-5e30066319de>\u001b[0m in \u001b[0;36m<module>\u001b[0;34m()\u001b[0m\n\u001b[1;32m      1\u001b[0m \u001b[0mX\u001b[0m \u001b[0;34m=\u001b[0m \u001b[0mnp\u001b[0m\u001b[0;34m.\u001b[0m\u001b[0marray\u001b[0m\u001b[0;34m(\u001b[0m\u001b[0;34m[\u001b[0m\u001b[0;36m1\u001b[0m\u001b[0;34m,\u001b[0m\u001b[0;36m2\u001b[0m\u001b[0;34m,\u001b[0m\u001b[0;36m3\u001b[0m\u001b[0;34m,\u001b[0m\u001b[0;36m4\u001b[0m\u001b[0;34m]\u001b[0m\u001b[0;34m)\u001b[0m\u001b[0;34m\u001b[0m\u001b[0m\n\u001b[0;32m----> 2\u001b[0;31m \u001b[0mf_parallel\u001b[0m\u001b[0;34m(\u001b[0m\u001b[0mX\u001b[0m\u001b[0;34m)\u001b[0m\u001b[0;34m\u001b[0m\u001b[0m\n\u001b[0m",
      "\u001b[0;32m/opt/conda/lib/python3.5/site-packages/numba/dispatcher.py\u001b[0m in \u001b[0;36m_compile_for_args\u001b[0;34m(self, *args, **kws)\u001b[0m\n\u001b[1;32m    169\u001b[0m     def __init__(self, arg_count, py_func, pysig, can_fallback,\n\u001b[1;32m    170\u001b[0m                  exact_match_required):\n\u001b[0;32m--> 171\u001b[0;31m         \u001b[0mself\u001b[0m\u001b[0;34m.\u001b[0m\u001b[0m_tm\u001b[0m \u001b[0;34m=\u001b[0m \u001b[0mdefault_type_manager\u001b[0m\u001b[0;34m\u001b[0m\u001b[0m\n\u001b[0m\u001b[1;32m    172\u001b[0m \u001b[0;34m\u001b[0m\u001b[0m\n\u001b[1;32m    173\u001b[0m         \u001b[0;31m# A mapping of signatures to compile results\u001b[0m\u001b[0;34m\u001b[0m\u001b[0;34m\u001b[0m\u001b[0m\n",
      "\u001b[0;32m/opt/conda/lib/python3.5/site-packages/numba/dispatcher.py\u001b[0m in \u001b[0;36mcompile\u001b[0;34m(self, sig)\u001b[0m\n\u001b[1;32m    342\u001b[0m             \u001b[0;32mif\u001b[0m \u001b[0mfailed_args\u001b[0m\u001b[0;34m:\u001b[0m\u001b[0;34m\u001b[0m\u001b[0m\n\u001b[1;32m    343\u001b[0m                 \u001b[0;31m# Patch error message to ease debugging\u001b[0m\u001b[0;34m\u001b[0m\u001b[0;34m\u001b[0m\u001b[0m\n\u001b[0;32m--> 344\u001b[0;31m                 msg = str(e).rstrip() + (\n\u001b[0m\u001b[1;32m    345\u001b[0m                     \u001b[0;34m\"\\n\\nThis error may have been caused by the following argument(s):\\n%s\\n\"\u001b[0m\u001b[0;34m\u001b[0m\u001b[0m\n\u001b[1;32m    346\u001b[0m                     % \"\\n\".join(\"- argument %d: %s\" % (i, err)\n",
      "\u001b[0;32m/opt/conda/lib/python3.5/site-packages/numba/targets/options.py\u001b[0m in \u001b[0;36mparse_as_flags\u001b[0;34m(cls, flags, options)\u001b[0m\n\u001b[1;32m     24\u001b[0m     \u001b[0;34m@\u001b[0m\u001b[0mclassmethod\u001b[0m\u001b[0;34m\u001b[0m\u001b[0m\n\u001b[1;32m     25\u001b[0m     \u001b[0;32mdef\u001b[0m \u001b[0mparse_as_flags\u001b[0m\u001b[0;34m(\u001b[0m\u001b[0mcls\u001b[0m\u001b[0;34m,\u001b[0m \u001b[0mflags\u001b[0m\u001b[0;34m,\u001b[0m \u001b[0moptions\u001b[0m\u001b[0;34m)\u001b[0m\u001b[0;34m:\u001b[0m\u001b[0;34m\u001b[0m\u001b[0m\n\u001b[0;32m---> 26\u001b[0;31m         \u001b[0mopt\u001b[0m \u001b[0;34m=\u001b[0m \u001b[0mcls\u001b[0m\u001b[0;34m(\u001b[0m\u001b[0;34m)\u001b[0m\u001b[0;34m\u001b[0m\u001b[0m\n\u001b[0m\u001b[1;32m     27\u001b[0m         \u001b[0mopt\u001b[0m\u001b[0;34m.\u001b[0m\u001b[0mfrom_dict\u001b[0m\u001b[0;34m(\u001b[0m\u001b[0moptions\u001b[0m\u001b[0;34m)\u001b[0m\u001b[0;34m\u001b[0m\u001b[0m\n\u001b[1;32m     28\u001b[0m         \u001b[0mopt\u001b[0m\u001b[0;34m.\u001b[0m\u001b[0mset_flags\u001b[0m\u001b[0;34m(\u001b[0m\u001b[0mflags\u001b[0m\u001b[0;34m)\u001b[0m\u001b[0;34m\u001b[0m\u001b[0m\n",
      "\u001b[0;32m/opt/conda/lib/python3.5/site-packages/numba/targets/options.py\u001b[0m in \u001b[0;36mfrom_dict\u001b[0;34m(self, dic)\u001b[0m\n\u001b[1;32m     17\u001b[0m                 \u001b[0mctor\u001b[0m \u001b[0;34m=\u001b[0m \u001b[0mself\u001b[0m\u001b[0;34m.\u001b[0m\u001b[0mOPTIONS\u001b[0m\u001b[0;34m[\u001b[0m\u001b[0mk\u001b[0m\u001b[0;34m]\u001b[0m\u001b[0;34m\u001b[0m\u001b[0m\n\u001b[1;32m     18\u001b[0m             \u001b[0;32mexcept\u001b[0m \u001b[0mKeyError\u001b[0m\u001b[0;34m:\u001b[0m\u001b[0;34m\u001b[0m\u001b[0m\n\u001b[0;32m---> 19\u001b[0;31m                 \u001b[0mfmt\u001b[0m \u001b[0;34m=\u001b[0m \u001b[0;34m\"%r does not support option: '%s'\"\u001b[0m\u001b[0;34m\u001b[0m\u001b[0m\n\u001b[0m\u001b[1;32m     20\u001b[0m                 \u001b[0;32mraise\u001b[0m \u001b[0mKeyError\u001b[0m\u001b[0;34m(\u001b[0m\u001b[0mfmt\u001b[0m \u001b[0;34m%\u001b[0m \u001b[0;34m(\u001b[0m\u001b[0mself\u001b[0m\u001b[0;34m.\u001b[0m\u001b[0m__class__\u001b[0m\u001b[0;34m,\u001b[0m \u001b[0mk\u001b[0m\u001b[0;34m)\u001b[0m\u001b[0;34m)\u001b[0m\u001b[0;34m\u001b[0m\u001b[0m\n\u001b[1;32m     21\u001b[0m             \u001b[0;32melse\u001b[0m\u001b[0;34m:\u001b[0m\u001b[0;34m\u001b[0m\u001b[0m\n",
      "\u001b[0;31mKeyError\u001b[0m: \"Does not support option: 'parallel'\""
     ]
    }
   ],
   "source": [
    "X = np.array([1,2,3,4])\n",
    "f_parallel(X)"
   ]
  },
  {
   "cell_type": "code",
   "execution_count": 136,
   "metadata": {
    "collapsed": false
   },
   "outputs": [],
   "source": [
    "@jit(nopython=True, parallel=True)\n",
    "def f(x, y):\n",
    "    return x + y"
   ]
  },
  {
   "cell_type": "code",
   "execution_count": 145,
   "metadata": {
    "collapsed": false
   },
   "outputs": [],
   "source": [
    "# f(np.array([1,2]), np.array([3,4]))\n",
    "\n",
    "# test(X)"
   ]
  },
  {
   "cell_type": "code",
   "execution_count": null,
   "metadata": {
    "collapsed": true
   },
   "outputs": [],
   "source": []
  }
 ],
 "metadata": {
  "kernelspec": {
   "display_name": "Python 3",
   "language": "python",
   "name": "python3"
  },
  "language_info": {
   "codemirror_mode": {
    "name": "ipython",
    "version": 3
   },
   "file_extension": ".py",
   "mimetype": "text/x-python",
   "name": "python",
   "nbconvert_exporter": "python",
   "pygments_lexer": "ipython3",
   "version": "3.5.2"
  }
 },
 "nbformat": 4,
 "nbformat_minor": 2
}
